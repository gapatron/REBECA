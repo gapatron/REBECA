{
 "cells": [
  {
   "cell_type": "code",
   "execution_count": 1,
   "id": "1f6b9d50-fba7-4c19-9e20-7405722156c3",
   "metadata": {},
   "outputs": [],
   "source": [
    "import pandas as pd\n",
    "import numpy as np\n",
    "import torch\n",
    "import torch.nn as nn\n",
    "import torch.optim as optim\n",
    "from tqdm.auto import tqdm\n",
    "\n",
    "import sys\n",
    "sys.path.append('../')\n",
    "from irt import *\n",
    "\n",
    "device ='cuda:1'\n",
    "train_data_path = \"../../data/train/\"\n",
    "eval_data_path = \"../../data/eval/\"\n",
    "irt_models_path = \"../../irt_models/\""
   ]
  },
  {
   "cell_type": "code",
   "execution_count": 2,
   "id": "d3a87e80-dff3-4825-8484-2ee488f1ec00",
   "metadata": {},
   "outputs": [
    {
     "ename": "FileNotFoundError",
     "evalue": "[Errno 2] No such file or directory: '../../data/eval/eval_df.csv'",
     "output_type": "error",
     "traceback": [
      "\u001b[1;31m---------------------------------------------------------------------------\u001b[0m",
      "\u001b[1;31mFileNotFoundError\u001b[0m                         Traceback (most recent call last)",
      "Cell \u001b[1;32mIn[2], line 1\u001b[0m\n\u001b[1;32m----> 1\u001b[0m data_eval \u001b[38;5;241m=\u001b[39m \u001b[43mpd\u001b[49m\u001b[38;5;241;43m.\u001b[39;49m\u001b[43mread_csv\u001b[49m\u001b[43m(\u001b[49m\u001b[43meval_data_path\u001b[49m\u001b[38;5;241;43m+\u001b[39;49m\u001b[38;5;124;43m\"\u001b[39;49m\u001b[38;5;124;43meval_df.csv\u001b[39;49m\u001b[38;5;124;43m\"\u001b[39;49m\u001b[43m)\u001b[49m\n\u001b[0;32m      2\u001b[0m E_test \u001b[38;5;241m=\u001b[39m torch\u001b[38;5;241m.\u001b[39mload(eval_data_path\u001b[38;5;241m+\u001b[39m\u001b[38;5;124m\"\u001b[39m\u001b[38;5;124meval_ie.pth\u001b[39m\u001b[38;5;124m\"\u001b[39m, weights_only\u001b[38;5;241m=\u001b[39m\u001b[38;5;28;01mTrue\u001b[39;00m)\n\u001b[0;32m      3\u001b[0m data_train \u001b[38;5;241m=\u001b[39m pd\u001b[38;5;241m.\u001b[39mread_csv(train_data_path\u001b[38;5;241m+\u001b[39m\u001b[38;5;124m\"\u001b[39m\u001b[38;5;124mtrain_val_df.csv\u001b[39m\u001b[38;5;124m\"\u001b[39m)\n",
      "File \u001b[1;32mc:\\Users\\Gabriel\\anaconda3\\envs\\recgensys-env\\lib\\site-packages\\pandas\\io\\parsers\\readers.py:1026\u001b[0m, in \u001b[0;36mread_csv\u001b[1;34m(filepath_or_buffer, sep, delimiter, header, names, index_col, usecols, dtype, engine, converters, true_values, false_values, skipinitialspace, skiprows, skipfooter, nrows, na_values, keep_default_na, na_filter, verbose, skip_blank_lines, parse_dates, infer_datetime_format, keep_date_col, date_parser, date_format, dayfirst, cache_dates, iterator, chunksize, compression, thousands, decimal, lineterminator, quotechar, quoting, doublequote, escapechar, comment, encoding, encoding_errors, dialect, on_bad_lines, delim_whitespace, low_memory, memory_map, float_precision, storage_options, dtype_backend)\u001b[0m\n\u001b[0;32m   1013\u001b[0m kwds_defaults \u001b[38;5;241m=\u001b[39m _refine_defaults_read(\n\u001b[0;32m   1014\u001b[0m     dialect,\n\u001b[0;32m   1015\u001b[0m     delimiter,\n\u001b[1;32m   (...)\u001b[0m\n\u001b[0;32m   1022\u001b[0m     dtype_backend\u001b[38;5;241m=\u001b[39mdtype_backend,\n\u001b[0;32m   1023\u001b[0m )\n\u001b[0;32m   1024\u001b[0m kwds\u001b[38;5;241m.\u001b[39mupdate(kwds_defaults)\n\u001b[1;32m-> 1026\u001b[0m \u001b[38;5;28;01mreturn\u001b[39;00m \u001b[43m_read\u001b[49m\u001b[43m(\u001b[49m\u001b[43mfilepath_or_buffer\u001b[49m\u001b[43m,\u001b[49m\u001b[43m \u001b[49m\u001b[43mkwds\u001b[49m\u001b[43m)\u001b[49m\n",
      "File \u001b[1;32mc:\\Users\\Gabriel\\anaconda3\\envs\\recgensys-env\\lib\\site-packages\\pandas\\io\\parsers\\readers.py:620\u001b[0m, in \u001b[0;36m_read\u001b[1;34m(filepath_or_buffer, kwds)\u001b[0m\n\u001b[0;32m    617\u001b[0m _validate_names(kwds\u001b[38;5;241m.\u001b[39mget(\u001b[38;5;124m\"\u001b[39m\u001b[38;5;124mnames\u001b[39m\u001b[38;5;124m\"\u001b[39m, \u001b[38;5;28;01mNone\u001b[39;00m))\n\u001b[0;32m    619\u001b[0m \u001b[38;5;66;03m# Create the parser.\u001b[39;00m\n\u001b[1;32m--> 620\u001b[0m parser \u001b[38;5;241m=\u001b[39m TextFileReader(filepath_or_buffer, \u001b[38;5;241m*\u001b[39m\u001b[38;5;241m*\u001b[39mkwds)\n\u001b[0;32m    622\u001b[0m \u001b[38;5;28;01mif\u001b[39;00m chunksize \u001b[38;5;129;01mor\u001b[39;00m iterator:\n\u001b[0;32m    623\u001b[0m     \u001b[38;5;28;01mreturn\u001b[39;00m parser\n",
      "File \u001b[1;32mc:\\Users\\Gabriel\\anaconda3\\envs\\recgensys-env\\lib\\site-packages\\pandas\\io\\parsers\\readers.py:1620\u001b[0m, in \u001b[0;36mTextFileReader.__init__\u001b[1;34m(self, f, engine, **kwds)\u001b[0m\n\u001b[0;32m   1617\u001b[0m     \u001b[38;5;28mself\u001b[39m\u001b[38;5;241m.\u001b[39moptions[\u001b[38;5;124m\"\u001b[39m\u001b[38;5;124mhas_index_names\u001b[39m\u001b[38;5;124m\"\u001b[39m] \u001b[38;5;241m=\u001b[39m kwds[\u001b[38;5;124m\"\u001b[39m\u001b[38;5;124mhas_index_names\u001b[39m\u001b[38;5;124m\"\u001b[39m]\n\u001b[0;32m   1619\u001b[0m \u001b[38;5;28mself\u001b[39m\u001b[38;5;241m.\u001b[39mhandles: IOHandles \u001b[38;5;241m|\u001b[39m \u001b[38;5;28;01mNone\u001b[39;00m \u001b[38;5;241m=\u001b[39m \u001b[38;5;28;01mNone\u001b[39;00m\n\u001b[1;32m-> 1620\u001b[0m \u001b[38;5;28mself\u001b[39m\u001b[38;5;241m.\u001b[39m_engine \u001b[38;5;241m=\u001b[39m \u001b[38;5;28;43mself\u001b[39;49m\u001b[38;5;241;43m.\u001b[39;49m\u001b[43m_make_engine\u001b[49m\u001b[43m(\u001b[49m\u001b[43mf\u001b[49m\u001b[43m,\u001b[49m\u001b[43m \u001b[49m\u001b[38;5;28;43mself\u001b[39;49m\u001b[38;5;241;43m.\u001b[39;49m\u001b[43mengine\u001b[49m\u001b[43m)\u001b[49m\n",
      "File \u001b[1;32mc:\\Users\\Gabriel\\anaconda3\\envs\\recgensys-env\\lib\\site-packages\\pandas\\io\\parsers\\readers.py:1880\u001b[0m, in \u001b[0;36mTextFileReader._make_engine\u001b[1;34m(self, f, engine)\u001b[0m\n\u001b[0;32m   1878\u001b[0m     \u001b[38;5;28;01mif\u001b[39;00m \u001b[38;5;124m\"\u001b[39m\u001b[38;5;124mb\u001b[39m\u001b[38;5;124m\"\u001b[39m \u001b[38;5;129;01mnot\u001b[39;00m \u001b[38;5;129;01min\u001b[39;00m mode:\n\u001b[0;32m   1879\u001b[0m         mode \u001b[38;5;241m+\u001b[39m\u001b[38;5;241m=\u001b[39m \u001b[38;5;124m\"\u001b[39m\u001b[38;5;124mb\u001b[39m\u001b[38;5;124m\"\u001b[39m\n\u001b[1;32m-> 1880\u001b[0m \u001b[38;5;28mself\u001b[39m\u001b[38;5;241m.\u001b[39mhandles \u001b[38;5;241m=\u001b[39m \u001b[43mget_handle\u001b[49m\u001b[43m(\u001b[49m\n\u001b[0;32m   1881\u001b[0m \u001b[43m    \u001b[49m\u001b[43mf\u001b[49m\u001b[43m,\u001b[49m\n\u001b[0;32m   1882\u001b[0m \u001b[43m    \u001b[49m\u001b[43mmode\u001b[49m\u001b[43m,\u001b[49m\n\u001b[0;32m   1883\u001b[0m \u001b[43m    \u001b[49m\u001b[43mencoding\u001b[49m\u001b[38;5;241;43m=\u001b[39;49m\u001b[38;5;28;43mself\u001b[39;49m\u001b[38;5;241;43m.\u001b[39;49m\u001b[43moptions\u001b[49m\u001b[38;5;241;43m.\u001b[39;49m\u001b[43mget\u001b[49m\u001b[43m(\u001b[49m\u001b[38;5;124;43m\"\u001b[39;49m\u001b[38;5;124;43mencoding\u001b[39;49m\u001b[38;5;124;43m\"\u001b[39;49m\u001b[43m,\u001b[49m\u001b[43m \u001b[49m\u001b[38;5;28;43;01mNone\u001b[39;49;00m\u001b[43m)\u001b[49m\u001b[43m,\u001b[49m\n\u001b[0;32m   1884\u001b[0m \u001b[43m    \u001b[49m\u001b[43mcompression\u001b[49m\u001b[38;5;241;43m=\u001b[39;49m\u001b[38;5;28;43mself\u001b[39;49m\u001b[38;5;241;43m.\u001b[39;49m\u001b[43moptions\u001b[49m\u001b[38;5;241;43m.\u001b[39;49m\u001b[43mget\u001b[49m\u001b[43m(\u001b[49m\u001b[38;5;124;43m\"\u001b[39;49m\u001b[38;5;124;43mcompression\u001b[39;49m\u001b[38;5;124;43m\"\u001b[39;49m\u001b[43m,\u001b[49m\u001b[43m \u001b[49m\u001b[38;5;28;43;01mNone\u001b[39;49;00m\u001b[43m)\u001b[49m\u001b[43m,\u001b[49m\n\u001b[0;32m   1885\u001b[0m \u001b[43m    \u001b[49m\u001b[43mmemory_map\u001b[49m\u001b[38;5;241;43m=\u001b[39;49m\u001b[38;5;28;43mself\u001b[39;49m\u001b[38;5;241;43m.\u001b[39;49m\u001b[43moptions\u001b[49m\u001b[38;5;241;43m.\u001b[39;49m\u001b[43mget\u001b[49m\u001b[43m(\u001b[49m\u001b[38;5;124;43m\"\u001b[39;49m\u001b[38;5;124;43mmemory_map\u001b[39;49m\u001b[38;5;124;43m\"\u001b[39;49m\u001b[43m,\u001b[49m\u001b[43m \u001b[49m\u001b[38;5;28;43;01mFalse\u001b[39;49;00m\u001b[43m)\u001b[49m\u001b[43m,\u001b[49m\n\u001b[0;32m   1886\u001b[0m \u001b[43m    \u001b[49m\u001b[43mis_text\u001b[49m\u001b[38;5;241;43m=\u001b[39;49m\u001b[43mis_text\u001b[49m\u001b[43m,\u001b[49m\n\u001b[0;32m   1887\u001b[0m \u001b[43m    \u001b[49m\u001b[43merrors\u001b[49m\u001b[38;5;241;43m=\u001b[39;49m\u001b[38;5;28;43mself\u001b[39;49m\u001b[38;5;241;43m.\u001b[39;49m\u001b[43moptions\u001b[49m\u001b[38;5;241;43m.\u001b[39;49m\u001b[43mget\u001b[49m\u001b[43m(\u001b[49m\u001b[38;5;124;43m\"\u001b[39;49m\u001b[38;5;124;43mencoding_errors\u001b[39;49m\u001b[38;5;124;43m\"\u001b[39;49m\u001b[43m,\u001b[49m\u001b[43m \u001b[49m\u001b[38;5;124;43m\"\u001b[39;49m\u001b[38;5;124;43mstrict\u001b[39;49m\u001b[38;5;124;43m\"\u001b[39;49m\u001b[43m)\u001b[49m\u001b[43m,\u001b[49m\n\u001b[0;32m   1888\u001b[0m \u001b[43m    \u001b[49m\u001b[43mstorage_options\u001b[49m\u001b[38;5;241;43m=\u001b[39;49m\u001b[38;5;28;43mself\u001b[39;49m\u001b[38;5;241;43m.\u001b[39;49m\u001b[43moptions\u001b[49m\u001b[38;5;241;43m.\u001b[39;49m\u001b[43mget\u001b[49m\u001b[43m(\u001b[49m\u001b[38;5;124;43m\"\u001b[39;49m\u001b[38;5;124;43mstorage_options\u001b[39;49m\u001b[38;5;124;43m\"\u001b[39;49m\u001b[43m,\u001b[49m\u001b[43m \u001b[49m\u001b[38;5;28;43;01mNone\u001b[39;49;00m\u001b[43m)\u001b[49m\u001b[43m,\u001b[49m\n\u001b[0;32m   1889\u001b[0m \u001b[43m\u001b[49m\u001b[43m)\u001b[49m\n\u001b[0;32m   1890\u001b[0m \u001b[38;5;28;01massert\u001b[39;00m \u001b[38;5;28mself\u001b[39m\u001b[38;5;241m.\u001b[39mhandles \u001b[38;5;129;01mis\u001b[39;00m \u001b[38;5;129;01mnot\u001b[39;00m \u001b[38;5;28;01mNone\u001b[39;00m\n\u001b[0;32m   1891\u001b[0m f \u001b[38;5;241m=\u001b[39m \u001b[38;5;28mself\u001b[39m\u001b[38;5;241m.\u001b[39mhandles\u001b[38;5;241m.\u001b[39mhandle\n",
      "File \u001b[1;32mc:\\Users\\Gabriel\\anaconda3\\envs\\recgensys-env\\lib\\site-packages\\pandas\\io\\common.py:873\u001b[0m, in \u001b[0;36mget_handle\u001b[1;34m(path_or_buf, mode, encoding, compression, memory_map, is_text, errors, storage_options)\u001b[0m\n\u001b[0;32m    868\u001b[0m \u001b[38;5;28;01melif\u001b[39;00m \u001b[38;5;28misinstance\u001b[39m(handle, \u001b[38;5;28mstr\u001b[39m):\n\u001b[0;32m    869\u001b[0m     \u001b[38;5;66;03m# Check whether the filename is to be opened in binary mode.\u001b[39;00m\n\u001b[0;32m    870\u001b[0m     \u001b[38;5;66;03m# Binary mode does not support 'encoding' and 'newline'.\u001b[39;00m\n\u001b[0;32m    871\u001b[0m     \u001b[38;5;28;01mif\u001b[39;00m ioargs\u001b[38;5;241m.\u001b[39mencoding \u001b[38;5;129;01mand\u001b[39;00m \u001b[38;5;124m\"\u001b[39m\u001b[38;5;124mb\u001b[39m\u001b[38;5;124m\"\u001b[39m \u001b[38;5;129;01mnot\u001b[39;00m \u001b[38;5;129;01min\u001b[39;00m ioargs\u001b[38;5;241m.\u001b[39mmode:\n\u001b[0;32m    872\u001b[0m         \u001b[38;5;66;03m# Encoding\u001b[39;00m\n\u001b[1;32m--> 873\u001b[0m         handle \u001b[38;5;241m=\u001b[39m \u001b[38;5;28;43mopen\u001b[39;49m\u001b[43m(\u001b[49m\n\u001b[0;32m    874\u001b[0m \u001b[43m            \u001b[49m\u001b[43mhandle\u001b[49m\u001b[43m,\u001b[49m\n\u001b[0;32m    875\u001b[0m \u001b[43m            \u001b[49m\u001b[43mioargs\u001b[49m\u001b[38;5;241;43m.\u001b[39;49m\u001b[43mmode\u001b[49m\u001b[43m,\u001b[49m\n\u001b[0;32m    876\u001b[0m \u001b[43m            \u001b[49m\u001b[43mencoding\u001b[49m\u001b[38;5;241;43m=\u001b[39;49m\u001b[43mioargs\u001b[49m\u001b[38;5;241;43m.\u001b[39;49m\u001b[43mencoding\u001b[49m\u001b[43m,\u001b[49m\n\u001b[0;32m    877\u001b[0m \u001b[43m            \u001b[49m\u001b[43merrors\u001b[49m\u001b[38;5;241;43m=\u001b[39;49m\u001b[43merrors\u001b[49m\u001b[43m,\u001b[49m\n\u001b[0;32m    878\u001b[0m \u001b[43m            \u001b[49m\u001b[43mnewline\u001b[49m\u001b[38;5;241;43m=\u001b[39;49m\u001b[38;5;124;43m\"\u001b[39;49m\u001b[38;5;124;43m\"\u001b[39;49m\u001b[43m,\u001b[49m\n\u001b[0;32m    879\u001b[0m \u001b[43m        \u001b[49m\u001b[43m)\u001b[49m\n\u001b[0;32m    880\u001b[0m     \u001b[38;5;28;01melse\u001b[39;00m:\n\u001b[0;32m    881\u001b[0m         \u001b[38;5;66;03m# Binary mode\u001b[39;00m\n\u001b[0;32m    882\u001b[0m         handle \u001b[38;5;241m=\u001b[39m \u001b[38;5;28mopen\u001b[39m(handle, ioargs\u001b[38;5;241m.\u001b[39mmode)\n",
      "\u001b[1;31mFileNotFoundError\u001b[0m: [Errno 2] No such file or directory: '../../data/eval/eval_df.csv'"
     ]
    }
   ],
   "source": [
    "data_eval = pd.read_csv(eval_data_path+\"eval_df.csv\")\n",
    "E_test = torch.load(eval_data_path+\"eval_ie.pth\", weights_only=True)\n",
    "data_train = pd.read_csv(train_data_path+\"train_val_df.csv\")\n",
    "E_train = torch.load(train_data_path+\"train_val_ie.pth\", weights_only=True)\n",
    "\n",
    "Y_test = (torch.tensor(data_eval.score)>=4).float()\n",
    "Y_train = (torch.tensor(data_train.score)>=4).float()\n",
    "U_test = torch.tensor(data_eval.worker_id)\n",
    "U_train = torch.tensor(data_train.worker_id)"
   ]
  },
  {
   "cell_type": "markdown",
   "id": "c9676e93-a18c-428c-a735-8e63fc1c4e78",
   "metadata": {},
   "source": [
    "Train with interaction term"
   ]
  },
  {
   "cell_type": "code",
   "execution_count": null,
   "id": "665b0a88-9920-4807-8845-43f53b1f7b00",
   "metadata": {
    "scrolled": true
   },
   "outputs": [],
   "source": [
    "irt_model = IRT(interaction=True)"
   ]
  },
  {
   "cell_type": "code",
   "execution_count": null,
   "id": "f007d164-c144-483d-b74d-4f08ac0db8ac",
   "metadata": {
    "scrolled": true
   },
   "outputs": [],
   "source": [
    "irt_model.fit(U_train, E_train, Y_train, train_device=device)\n",
    "irt_model.save(irt_models_path+'irt_model_interaction')"
   ]
  },
  {
   "cell_type": "markdown",
   "id": "0099148f-00fb-444d-a8be-892cde99f9c7",
   "metadata": {},
   "source": [
    "Loading and scoring"
   ]
  },
  {
   "cell_type": "code",
   "execution_count": 10,
   "id": "7cc86e3e-3010-41b4-b041-9e4c94fb9e0c",
   "metadata": {
    "scrolled": true
   },
   "outputs": [
    {
     "data": {
      "text/plain": [
       "{0: {'avg': 0.19132131338119507, 'std_error': 0.024098885551241553},\n",
       " 1: {'avg': 0.5420615077018738, 'std_error': 0.0753648023310445},\n",
       " 2: {'avg': 0.2914014160633087, 'std_error': 0.05217672585284246},\n",
       " 3: {'avg': 0.1966433823108673, 'std_error': 0.07468234016156487},\n",
       " 4: {'avg': 0.5769295692443848, 'std_error': 0.09351094850149366},\n",
       " 5: {'avg': 0.6566412448883057, 'std_error': 0.11114708582560222},\n",
       " 6: {'avg': 0.40760424733161926, 'std_error': 0.024131641188271883},\n",
       " 7: {'avg': 0.4750557839870453, 'std_error': 0.05928288923880602},\n",
       " 8: {'avg': 0.3836439251899719, 'std_error': 0.045963553199467766},\n",
       " 9: {'avg': 0.08000698685646057, 'std_error': 0.026913540437817574},\n",
       " 10: {'avg': 0.43402421474456787, 'std_error': 0.05856913116169853},\n",
       " 11: {'avg': 0.20833568274974823, 'std_error': 0.056815544702944844},\n",
       " 12: {'avg': 0.6462475657463074, 'std_error': 0.09996035151444832},\n",
       " 13: {'avg': 0.14943020045757294, 'std_error': 0.03550688004825168},\n",
       " 14: {'avg': 0.5018437504768372, 'std_error': 0.04987121756508279},\n",
       " 15: {'avg': 0.3262523114681244, 'std_error': 0.03874105056603894},\n",
       " 16: {'avg': 0.15799634158611298, 'std_error': 0.04731514150482641},\n",
       " 17: {'avg': 0.4160158038139343, 'std_error': 0.09442760050296783},\n",
       " 18: {'avg': 0.29663264751434326, 'std_error': 0.03584592090626419},\n",
       " 19: {'avg': 0.2315637171268463, 'std_error': 0.06160589156915042},\n",
       " 20: {'avg': 0.4320480227470398, 'std_error': 0.042910612626184196},\n",
       " 21: {'avg': 0.2697797417640686, 'std_error': 0.06499831080436706},\n",
       " 22: {'avg': 0.21741633117198944, 'std_error': 0.04889671206145802},\n",
       " 23: {'avg': 0.2466941773891449, 'std_error': 0.05600782315443972},\n",
       " 24: {'avg': 0.5137625932693481, 'std_error': 0.03394950431820611},\n",
       " 25: {'avg': 0.3825077712535858, 'std_error': 0.08162993544718666},\n",
       " 26: {'avg': 0.4671393632888794, 'std_error': 0.05471813982105973},\n",
       " 27: {'avg': 0.1961834728717804, 'std_error': 0.08654017714200452},\n",
       " 28: {'avg': 0.16838780045509338, 'std_error': 0.03995302162345869},\n",
       " 29: {'avg': 0.4358650743961334, 'std_error': 0.1212274454869972},\n",
       " 30: {'avg': 0.362594336271286, 'std_error': 0.07651376880137441},\n",
       " 31: {'avg': 0.29995259642601013, 'std_error': 0.021216520569021746},\n",
       " 32: {'avg': 0.22072501480579376, 'std_error': 0.04172134451072194},\n",
       " 33: {'avg': 0.4814817011356354, 'std_error': 0.07217482477426529},\n",
       " 34: {'avg': 0.29061275720596313, 'std_error': 0.09246813786659663},\n",
       " 35: {'avg': 0.20637214183807373, 'std_error': 0.03340426492008338},\n",
       " 36: {'avg': 0.26828733086586, 'std_error': 0.08775780349969864},\n",
       " 37: {'avg': 0.24415746331214905, 'std_error': 0.039089270386427045},\n",
       " 38: {'avg': 0.2207108438014984, 'std_error': 0.06052175995058092},\n",
       " 39: {'avg': 0.5189275741577148, 'std_error': 0.01875240868816204},\n",
       " 40: {'avg': 0.12882304191589355, 'std_error': 0.03381266336261745},\n",
       " 41: {'avg': 0.3679250478744507, 'std_error': 0.08533526449440032},\n",
       " 42: {'avg': 0.2782922089099884, 'std_error': 0.016608310927317644},\n",
       " 43: {'avg': 0.4316510260105133, 'std_error': 0.07000627265319866},\n",
       " 44: {'avg': 0.27621975541114807, 'std_error': 0.05658252780320252},\n",
       " 45: {'avg': 0.31989654898643494, 'std_error': 0.03729208174647624},\n",
       " 46: {'avg': 0.36209723353385925, 'std_error': 0.012509597893312685},\n",
       " 47: {'avg': 0.12329985946416855, 'std_error': 0.07211169695534206},\n",
       " 48: {'avg': 0.47905585169792175, 'std_error': 0.07389975074133372},\n",
       " 49: {'avg': 0.2193652242422104, 'std_error': 0.06651746035589401},\n",
       " 50: {'avg': 0.20585227012634277, 'std_error': 0.058710971014508895},\n",
       " 51: {'avg': 0.30660003423690796, 'std_error': 0.10747440656026204},\n",
       " 52: {'avg': 0.2572709023952484, 'std_error': 0.026995680548928},\n",
       " 53: {'avg': 0.25283339619636536, 'std_error': 0.04039962231118265},\n",
       " 54: {'avg': 0.19745130836963654, 'std_error': 0.0600957775481154},\n",
       " 55: {'avg': 0.48129937052726746, 'std_error': 0.03923648684604656},\n",
       " 56: {'avg': 0.28894299268722534, 'std_error': 0.03700454496311005},\n",
       " 57: {'avg': 0.2427537888288498, 'std_error': 0.009582537100528315},\n",
       " 58: {'avg': 0.18487539887428284, 'std_error': 0.032741961872703805},\n",
       " 59: {'avg': 0.27308282256126404, 'std_error': 0.07533946559062835},\n",
       " 60: {'avg': 0.5785943269729614, 'std_error': 0.09798652124164113},\n",
       " 61: {'avg': 0.31382670998573303, 'std_error': 0.044655901667215926},\n",
       " 62: {'avg': 0.23183196783065796, 'std_error': 0.08597112695376079},\n",
       " 63: {'avg': 0.29343298077583313, 'std_error': 0.1076684757583035},\n",
       " 64: {'avg': 0.3523678183555603, 'std_error': 0.051640372148180236},\n",
       " 65: {'avg': 0.2726300060749054, 'std_error': 0.0768307491550418},\n",
       " 66: {'avg': 0.23273681104183197, 'std_error': 0.026004854162694574},\n",
       " 67: {'avg': 0.34117576479911804, 'std_error': 0.05469565859177186},\n",
       " 68: {'avg': 0.28728893399238586, 'std_error': 0.0306744543690803},\n",
       " 69: {'avg': 0.38048264384269714, 'std_error': 0.06752222969174701},\n",
       " 70: {'avg': 0.3297251760959625, 'std_error': 0.08759864419698715},\n",
       " 71: {'avg': 0.11266645789146423, 'std_error': 0.0178680977714443},\n",
       " 72: {'avg': 0.7470272779464722, 'std_error': 0.03979447370643225},\n",
       " 73: {'avg': 0.6706863045692444, 'std_error': 0.10810467499185104},\n",
       " 74: {'avg': 0.40963682532310486, 'std_error': 0.022376759609499138},\n",
       " 75: {'avg': 0.4186607003211975, 'std_error': 0.04969776173432668},\n",
       " 76: {'avg': 0.5544494390487671, 'std_error': 0.10062797864278157},\n",
       " 77: {'avg': 0.3256790041923523, 'std_error': 0.13011359069684586},\n",
       " 78: {'avg': 0.41828107833862305, 'std_error': 0.08652544612875199},\n",
       " 79: {'avg': 0.5801840424537659, 'std_error': 0.0859342912832896},\n",
       " 80: {'avg': 0.2884362041950226, 'std_error': 0.02527471695355378},\n",
       " 81: {'avg': 0.7171419858932495, 'std_error': 0.06101185828447342},\n",
       " 82: {'avg': 0.4560564458370209, 'std_error': 0.08378752359813782},\n",
       " 83: {'avg': 0.3365061581134796, 'std_error': 0.10344193224301498},\n",
       " 84: {'avg': 0.4912128150463104, 'std_error': 0.03646781599301555},\n",
       " 85: {'avg': 0.2860208749771118, 'std_error': 0.06489527153614003},\n",
       " 86: {'avg': 0.46202659606933594, 'std_error': 0.06054522054164556},\n",
       " 87: {'avg': 0.44335392117500305, 'std_error': 0.041821142797933926},\n",
       " 88: {'avg': 0.5318557024002075, 'std_error': 0.08886011164825927},\n",
       " 89: {'avg': 0.39316055178642273, 'std_error': 0.049903457363446556},\n",
       " 90: {'avg': 0.7381703853607178, 'std_error': 0.02184834495690037},\n",
       " 91: {'avg': 0.4900127649307251, 'std_error': 0.09457903797658719},\n",
       " 92: {'avg': 0.41314247250556946, 'std_error': 0.08234544098377228},\n",
       " 93: {'avg': 0.23352088034152985, 'std_error': 0.057422327212082507},\n",
       " 94: {'avg': 0.47930988669395447, 'std_error': 0.07504908805597833},\n",
       " 95: {'avg': 0.2706257104873657, 'std_error': 0.025782955821206294},\n",
       " 96: {'avg': 0.35882970690727234, 'std_error': 0.041246783916933795},\n",
       " 97: {'avg': 0.5533502697944641, 'std_error': 0.0543712735018694},\n",
       " 98: {'avg': 0.24739940464496613, 'std_error': 0.016391759366701435},\n",
       " 99: {'avg': 0.46456247568130493, 'std_error': 0.10733211040496826},\n",
       " 100: {'avg': 0.3165685534477234, 'std_error': 0.05584992602349158},\n",
       " 101: {'avg': 0.5682734251022339, 'std_error': 0.11621652414525258},\n",
       " 102: {'avg': 0.12528155744075775, 'std_error': 0.05389121681520819},\n",
       " 103: {'avg': 0.2275727540254593, 'std_error': 0.10037249049777629},\n",
       " 104: {'avg': 0.5267930030822754, 'std_error': 0.039778513471416824},\n",
       " 105: {'avg': 0.837507426738739, 'std_error': 0.05456012487411499},\n",
       " 106: {'avg': 0.5258101224899292, 'std_error': 0.06536681714983705},\n",
       " 107: {'avg': 0.391183465719223, 'std_error': 0.03337671186287551},\n",
       " 108: {'avg': 0.1836446076631546, 'std_error': 0.07677629331844937},\n",
       " 109: {'avg': 0.5518300533294678, 'std_error': 0.04898733497649435},\n",
       " 110: {'avg': 0.07901623100042343, 'std_error': 0.03650579645849286},\n",
       " 111: {'avg': 0.34054893255233765, 'std_error': 0.10294313964099684},\n",
       " 112: {'avg': 0.24302040040493011, 'std_error': 0.05528106037563182},\n",
       " 113: {'avg': 0.16596758365631104, 'std_error': 0.02956529813153403},\n",
       " 114: {'avg': 0.3269158601760864, 'std_error': 0.056682248439976254},\n",
       " 115: {'avg': 0.4157724380493164, 'std_error': 0.09062705437342326},\n",
       " 116: {'avg': 0.22218361496925354, 'std_error': 0.060212659271177055},\n",
       " 117: {'avg': 0.49451902508735657, 'std_error': 0.11538973839803279},\n",
       " 118: {'avg': 0.47817331552505493, 'std_error': 0.11093233029047649},\n",
       " 119: {'avg': 0.37864920496940613, 'std_error': 0.08322607715379447},\n",
       " 120: {'avg': 0.4259325861930847, 'std_error': 0.034883988633041714},\n",
       " 121: {'avg': 0.21398067474365234, 'std_error': 0.0336068328837421},\n",
       " 122: {'avg': 0.26207005977630615, 'std_error': 0.07335774319761355},\n",
       " 123: {'avg': 0.4709766209125519, 'std_error': 0.04839957573054275},\n",
       " 124: {'avg': 0.25715506076812744, 'std_error': 0.08259729166748005},\n",
       " 125: {'avg': 0.31697872281074524, 'std_error': 0.07953072988338968},\n",
       " 126: {'avg': 0.40665310621261597, 'std_error': 0.09406402462061979},\n",
       " 127: {'avg': 0.4255289137363434, 'std_error': 0.06253703785286067},\n",
       " 128: {'avg': 0.4507589042186737, 'std_error': 0.02645955054060955},\n",
       " 129: {'avg': 0.4121728241443634, 'std_error': 0.10612705206370357},\n",
       " 130: {'avg': 0.7005006074905396, 'std_error': 0.042522457824880705},\n",
       " 131: {'avg': 0.29526302218437195, 'std_error': 0.02838906800273952},\n",
       " 132: {'avg': 0.592093288898468, 'std_error': 0.0814701050792321},\n",
       " 133: {'avg': 0.22480826079845428, 'std_error': 0.04453179292959862},\n",
       " 134: {'avg': 0.176720529794693, 'std_error': 0.04417847061085154},\n",
       " 135: {'avg': 0.35954001545906067, 'std_error': 0.05070599530115977},\n",
       " 136: {'avg': 0.4582652747631073, 'std_error': 0.060840738607516084},\n",
       " 137: {'avg': 0.5271429419517517, 'std_error': 0.0713116465215111},\n",
       " 138: {'avg': 0.3846629858016968, 'std_error': 0.05107980780745773},\n",
       " 139: {'avg': 0.5749874711036682, 'std_error': 0.0589803121984005},\n",
       " 140: {'avg': 0.5769501328468323, 'std_error': 0.08677682025846037},\n",
       " 141: {'avg': 0.47242847084999084, 'std_error': 0.04384927450040619},\n",
       " 142: {'avg': 0.3996753394603729, 'std_error': 0.048943091280065756},\n",
       " 143: {'avg': 0.4236302971839905, 'std_error': 0.0791795402765274},\n",
       " 144: {'avg': 0.3042266368865967, 'std_error': 0.09621272796540868},\n",
       " 145: {'avg': 0.4184034466743469, 'std_error': 0.10408924084315915},\n",
       " 146: {'avg': 0.33784469962120056, 'std_error': 0.07138816492060845},\n",
       " 147: {'avg': 0.6655883193016052, 'std_error': 0.028270753103120622},\n",
       " 148: {'avg': 0.23488612473011017, 'std_error': 0.0346832834186301},\n",
       " 149: {'avg': 0.5102869272232056, 'std_error': 0.04385566829922666},\n",
       " 150: {'avg': 0.4417150914669037, 'std_error': 0.11991820927394417},\n",
       " 151: {'avg': 0.32277220487594604, 'std_error': 0.08431549529685113},\n",
       " 152: {'avg': 0.561159074306488, 'std_error': 0.05895436287764774},\n",
       " 153: {'avg': 0.719646155834198, 'std_error': 0.07647489011287689},\n",
       " 154: {'avg': 0.34888756275177, 'std_error': 0.05087699076810113},\n",
       " 155: {'avg': 0.33811748027801514, 'std_error': 0.09551126691551852},\n",
       " 156: {'avg': 0.17299441993236542, 'std_error': 0.04104709075022691},\n",
       " 157: {'avg': 0.17386026680469513, 'std_error': 0.027842018203853115},\n",
       " 158: {'avg': 0.5682048201560974, 'std_error': 0.06654034006730296},\n",
       " 159: {'avg': 0.1472015678882599, 'std_error': 0.03903357663067709},\n",
       " 160: {'avg': 0.25888553261756897, 'std_error': 0.052260998138653245},\n",
       " 161: {'avg': 0.11657571792602539, 'std_error': 0.060977205634117126},\n",
       " 162: {'avg': 0.2604857087135315, 'std_error': 0.07421094570434258},\n",
       " 163: {'avg': 0.3247838616371155, 'std_error': 0.06715836409746287},\n",
       " 164: {'avg': 0.25554874539375305, 'std_error': 0.09257342118922042},\n",
       " 165: {'avg': 0.43053990602493286, 'std_error': 0.08803749238398544},\n",
       " 166: {'avg': 0.40033018589019775, 'std_error': 0.04953577100113416},\n",
       " 167: {'avg': 0.6802277565002441, 'std_error': 0.04112585611060169},\n",
       " 168: {'avg': 0.6764804124832153, 'std_error': 0.02279398148806385},\n",
       " 169: {'avg': 0.2503965198993683, 'std_error': 0.06258280780493196},\n",
       " 170: {'avg': 0.5571566224098206, 'std_error': 0.08640388281655102},\n",
       " 171: {'avg': 0.5323900580406189, 'std_error': 0.08503195416120614},\n",
       " 172: {'avg': 0.5630605220794678, 'std_error': 0.09876624250831026},\n",
       " 173: {'avg': 0.31328240036964417, 'std_error': 0.04299286691523781},\n",
       " 174: {'avg': 0.32940414547920227, 'std_error': 0.07790942836927635},\n",
       " 175: {'avg': 0.3530706465244293, 'std_error': 0.06651543825864792},\n",
       " 176: {'avg': 0.36962205171585083, 'std_error': 0.030203468595702866},\n",
       " 177: {'avg': 0.39690470695495605, 'std_error': 0.06281386473648803},\n",
       " 178: {'avg': 0.5568847060203552, 'std_error': 0.06554405391216278},\n",
       " 179: {'avg': 0.38146600127220154, 'std_error': 0.09286784789018306},\n",
       " 180: {'avg': 0.5162434577941895, 'std_error': 0.10495770152418685},\n",
       " 181: {'avg': 0.43646639585494995, 'std_error': 0.0510488897562027},\n",
       " 182: {'avg': 0.2742741107940674, 'std_error': 0.05250758793111097},\n",
       " 183: {'avg': 0.16382567584514618, 'std_error': 0.034549832401309176},\n",
       " 184: {'avg': 0.21018745005130768, 'std_error': 0.036926475834997176},\n",
       " 185: {'avg': 0.16560885310173035, 'std_error': 0.05751743167638779},\n",
       " 186: {'avg': 0.8884813189506531, 'std_error': 0.0205147990158626},\n",
       " 187: {'avg': 0.1538008600473404, 'std_error': 0.03609858026698698},\n",
       " 188: {'avg': 0.12620015442371368, 'std_error': 0.04548312039585925},\n",
       " 189: {'avg': 0.3419536054134369, 'std_error': 0.022189613223922787},\n",
       " 190: {'avg': 0.15854087471961975, 'std_error': 0.03383769389910841},\n",
       " 191: {'avg': 0.5005176663398743, 'std_error': 0.06763115613193935},\n",
       " 192: {'avg': 0.30329403281211853, 'std_error': 0.08003456789989508},\n",
       " 193: {'avg': 0.09693704545497894, 'std_error': 0.007588135797379043},\n",
       " 194: {'avg': 0.18867233395576477, 'std_error': 0.07288133437016218},\n",
       " 195: {'avg': 0.23858824372291565, 'std_error': 0.060946133905891695},\n",
       " 196: {'avg': 0.31709617376327515, 'std_error': 0.04658543673772235},\n",
       " 197: {'avg': 0.5394463539123535, 'std_error': 0.10704067455954647},\n",
       " 198: {'avg': 0.8042395114898682, 'std_error': 0.029241163202034622},\n",
       " 199: {'avg': 0.256572425365448, 'std_error': 0.05699294209480286},\n",
       " 200: {'avg': 0.5131873488426208, 'std_error': 0.0763507597733839},\n",
       " 201: {'avg': 0.32415056228637695, 'std_error': 0.08197177201509476},\n",
       " 202: {'avg': 0.5211222171783447, 'std_error': 0.0791389896500682},\n",
       " 203: {'avg': 0.5053333044052124, 'std_error': 0.07319778106659194},\n",
       " 204: {'avg': 0.14430373907089233, 'std_error': 0.037690103633782425},\n",
       " 205: {'avg': 0.19560013711452484, 'std_error': 0.0686809563671243},\n",
       " 206: {'avg': 0.3044664263725281, 'std_error': 0.02655443567440661},\n",
       " 207: {'avg': 0.17152565717697144, 'std_error': 0.03123605758639666},\n",
       " 208: {'avg': 0.41285786032676697, 'std_error': 0.05742439214823464},\n",
       " 209: {'avg': 0.30220749974250793, 'std_error': 0.09259691929091078}}"
      ]
     },
     "execution_count": 10,
     "metadata": {},
     "output_type": "execute_result"
    }
   ],
   "source": [
    "irt_model.load(irt_models_path+'irt_model_interaction')\n",
    "irt_model.score(U_test, E_test)"
   ]
  },
  {
   "cell_type": "markdown",
   "id": "c46c97ce-667d-4fe9-8525-e1e615ddb86c",
   "metadata": {},
   "source": [
    "Train without interaction term"
   ]
  },
  {
   "cell_type": "code",
   "execution_count": 3,
   "id": "5f74aaeb-3f1a-42bd-b0f5-65b8e9115d9a",
   "metadata": {},
   "outputs": [],
   "source": [
    "irt_model2 = IRT(interaction=False)"
   ]
  },
  {
   "cell_type": "code",
   "execution_count": null,
   "id": "044c7061-7e8b-4d67-a2ed-d692fd264568",
   "metadata": {},
   "outputs": [
    {
     "data": {
      "application/vnd.jupyter.widget-view+json": {
       "model_id": "71d05686f32e4a71a255aa11780c0f31",
       "version_major": 2,
       "version_minor": 0
      },
      "text/plain": [
       "  0%|          | 0/3 [00:00<?, ?it/s]"
      ]
     },
     "metadata": {},
     "output_type": "display_data"
    },
    {
     "data": {
      "application/vnd.jupyter.widget-view+json": {
       "model_id": "71bd9aae879d4c16a08336de8c31f8d2",
       "version_major": 2,
       "version_minor": 0
      },
      "text/plain": [
       "  0%|          | 0/3 [00:00<?, ?it/s]"
      ]
     },
     "metadata": {},
     "output_type": "display_data"
    },
    {
     "data": {
      "application/vnd.jupyter.widget-view+json": {
       "model_id": "289a9323e9804ded828891a5f9573a70",
       "version_major": 2,
       "version_minor": 0
      },
      "text/plain": [
       "  0%|          | 0/1 [00:00<?, ?it/s]"
      ]
     },
     "metadata": {},
     "output_type": "display_data"
    },
    {
     "data": {
      "application/vnd.jupyter.widget-view+json": {
       "model_id": "a5e7057e4ca147ffb8f33724d4470fe2",
       "version_major": 2,
       "version_minor": 0
      },
      "text/plain": [
       "  0%|          | 0/3 [00:00<?, ?it/s]"
      ]
     },
     "metadata": {},
     "output_type": "display_data"
    },
    {
     "data": {
      "application/vnd.jupyter.widget-view+json": {
       "model_id": "22f38ae15ad348dda9d09ad97ea8d161",
       "version_major": 2,
       "version_minor": 0
      },
      "text/plain": [
       "  0%|          | 0/1 [00:00<?, ?it/s]"
      ]
     },
     "metadata": {},
     "output_type": "display_data"
    },
    {
     "data": {
      "application/vnd.jupyter.widget-view+json": {
       "model_id": "4f3175f3a4f84bb0aa92806a07fb1280",
       "version_major": 2,
       "version_minor": 0
      },
      "text/plain": [
       "  0%|          | 0/3 [00:00<?, ?it/s]"
      ]
     },
     "metadata": {},
     "output_type": "display_data"
    },
    {
     "data": {
      "application/vnd.jupyter.widget-view+json": {
       "model_id": "95102c5160e74f9eaee8a1a9511a3d61",
       "version_major": 2,
       "version_minor": 0
      },
      "text/plain": [
       "  0%|          | 0/1 [00:00<?, ?it/s]"
      ]
     },
     "metadata": {},
     "output_type": "display_data"
    },
    {
     "data": {
      "application/vnd.jupyter.widget-view+json": {
       "model_id": "22fd13b17d5b434bbfffe7e02ec74265",
       "version_major": 2,
       "version_minor": 0
      },
      "text/plain": [
       "  0%|          | 0/3 [00:00<?, ?it/s]"
      ]
     },
     "metadata": {},
     "output_type": "display_data"
    },
    {
     "data": {
      "application/vnd.jupyter.widget-view+json": {
       "model_id": "647afa99b2ba40d3b6ac0d20e031e0d4",
       "version_major": 2,
       "version_minor": 0
      },
      "text/plain": [
       "  0%|          | 0/3 [00:00<?, ?it/s]"
      ]
     },
     "metadata": {},
     "output_type": "display_data"
    },
    {
     "data": {
      "application/vnd.jupyter.widget-view+json": {
       "model_id": "f783288a58894f87a248393abc196c75",
       "version_major": 2,
       "version_minor": 0
      },
      "text/plain": [
       "  0%|          | 0/1 [00:00<?, ?it/s]"
      ]
     },
     "metadata": {},
     "output_type": "display_data"
    },
    {
     "data": {
      "application/vnd.jupyter.widget-view+json": {
       "model_id": "8c8bfff4ab94434dba1a487d43d5b2cb",
       "version_major": 2,
       "version_minor": 0
      },
      "text/plain": [
       "  0%|          | 0/3 [00:00<?, ?it/s]"
      ]
     },
     "metadata": {},
     "output_type": "display_data"
    },
    {
     "data": {
      "application/vnd.jupyter.widget-view+json": {
       "model_id": "ad9a6dcdfaa94bc99fcacf79333222ff",
       "version_major": 2,
       "version_minor": 0
      },
      "text/plain": [
       "  0%|          | 0/1 [00:00<?, ?it/s]"
      ]
     },
     "metadata": {},
     "output_type": "display_data"
    },
    {
     "data": {
      "application/vnd.jupyter.widget-view+json": {
       "model_id": "b21114677c8b446b81d89de8e47e3235",
       "version_major": 2,
       "version_minor": 0
      },
      "text/plain": [
       "  0%|          | 0/3 [00:00<?, ?it/s]"
      ]
     },
     "metadata": {},
     "output_type": "display_data"
    },
    {
     "data": {
      "application/vnd.jupyter.widget-view+json": {
       "model_id": "d0df84c216434708a338ee506b850ede",
       "version_major": 2,
       "version_minor": 0
      },
      "text/plain": [
       "  0%|          | 0/1 [00:00<?, ?it/s]"
      ]
     },
     "metadata": {},
     "output_type": "display_data"
    },
    {
     "data": {
      "application/vnd.jupyter.widget-view+json": {
       "model_id": "36ec3205d53e4dc5a35d76baa5c5b44a",
       "version_major": 2,
       "version_minor": 0
      },
      "text/plain": [
       "  0%|          | 0/3 [00:00<?, ?it/s]"
      ]
     },
     "metadata": {},
     "output_type": "display_data"
    },
    {
     "data": {
      "application/vnd.jupyter.widget-view+json": {
       "model_id": "5369e3ff607849dcaa4502069cd4ab0f",
       "version_major": 2,
       "version_minor": 0
      },
      "text/plain": [
       "  0%|          | 0/3 [00:00<?, ?it/s]"
      ]
     },
     "metadata": {},
     "output_type": "display_data"
    },
    {
     "data": {
      "application/vnd.jupyter.widget-view+json": {
       "model_id": "6d26dbf6cac74904913c534c5b697da1",
       "version_major": 2,
       "version_minor": 0
      },
      "text/plain": [
       "  0%|          | 0/1 [00:00<?, ?it/s]"
      ]
     },
     "metadata": {},
     "output_type": "display_data"
    },
    {
     "data": {
      "application/vnd.jupyter.widget-view+json": {
       "model_id": "ab1d42fa0d744cf5b5dd3d946eccd899",
       "version_major": 2,
       "version_minor": 0
      },
      "text/plain": [
       "  0%|          | 0/3 [00:00<?, ?it/s]"
      ]
     },
     "metadata": {},
     "output_type": "display_data"
    },
    {
     "data": {
      "application/vnd.jupyter.widget-view+json": {
       "model_id": "4273a1c5fdf94a6a8462e6f34f075101",
       "version_major": 2,
       "version_minor": 0
      },
      "text/plain": [
       "  0%|          | 0/1 [00:00<?, ?it/s]"
      ]
     },
     "metadata": {},
     "output_type": "display_data"
    },
    {
     "data": {
      "application/vnd.jupyter.widget-view+json": {
       "model_id": "72bda40000e84c72938bdbfbf7fcd08b",
       "version_major": 2,
       "version_minor": 0
      },
      "text/plain": [
       "  0%|          | 0/3 [00:00<?, ?it/s]"
      ]
     },
     "metadata": {},
     "output_type": "display_data"
    }
   ],
   "source": [
    "irt_model2.fit(U_train, E_train, Y_train, ds=[1], train_device=device)\n",
    "irt_model2.save(irt_models_path+'irt_model_no-interaction')"
   ]
  },
  {
   "cell_type": "markdown",
   "id": "6d560626-7ca8-40c4-8fec-9d1f72be8174",
   "metadata": {},
   "source": [
    "Loading and scoring"
   ]
  },
  {
   "cell_type": "code",
   "execution_count": null,
   "id": "c7ac2c07-a625-43e8-b339-bf9c6477feba",
   "metadata": {},
   "outputs": [],
   "source": [
    "irt_model2.load(irt_models_path+'irt_model_no-interaction')\n",
    "irt_model2.score(U_test, E_test)"
   ]
  },
  {
   "cell_type": "markdown",
   "id": "520d7522-701d-47bc-a879-a11280d7710c",
   "metadata": {},
   "source": [
    "Some plots"
   ]
  },
  {
   "cell_type": "markdown",
   "id": "0bd44caf-982c-4c73-89db-943ea45de73b",
   "metadata": {},
   "source": [
    "probs = forward(Theta1.cpu(), Theta2.cpu(), U_test, E_test, Ma.cpu(), Mb.cpu()).detach().numpy()\n",
    "y = Y_test.detach().numpy()"
   ]
  },
  {
   "cell_type": "markdown",
   "id": "07e106da-5c81-44c5-b2a6-a59ef438dac3",
   "metadata": {
    "scrolled": true
   },
   "source": [
    "from matplotlib.colors import LogNorm\n",
    "\n",
    "aucs = []\n",
    "ns = []\n",
    "ns_train = []\n",
    "for u in np.unique(U_test.numpy()):\n",
    "    ind = U_test.numpy()==u\n",
    "    if np.sum(y[ind])!=0 and np.sum(1-y[ind])!=0:\n",
    "        fpr, tpr, thresholds = roc_curve(y[ind], probs[ind])\n",
    "        aucs.append(float(auc(fpr, tpr)))\n",
    "        ns.append(int(np.sum(ind)))\n",
    "        ns_train.append(int(np.sum(U_train.cpu().numpy()==u)))\n",
    "\n",
    "sc = plt.scatter(ns, aucs, c=ns_train, cmap='viridis', norm=LogNorm(), edgecolor='k')\n",
    "plt.xscale('log')\n",
    "plt.colorbar(sc, label='Train size (ns_train, log scale)')  # Add colorbar in log scale\n",
    "plt.ylabel('AUC')\n",
    "plt.xlabel('Test size (ns)')\n",
    "#plt.title('AUC vs Test Size (Colored by Train Size)')\n",
    "plt.show()"
   ]
  },
  {
   "cell_type": "markdown",
   "id": "0654b60b-a089-44a9-b70d-fb59c2c3f854",
   "metadata": {},
   "source": [
    "plt.hist(probs[y==0],alpha=.3,density=True)\n",
    "plt.hist(probs[y==1],alpha=.3,density=True)\n",
    "plt.show()"
   ]
  },
  {
   "cell_type": "markdown",
   "id": "6b1200e8-cf5f-4357-a894-eecaca4b1ce4",
   "metadata": {},
   "source": [
    "np.mean((probs>.5).astype(int)==y)"
   ]
  },
  {
   "cell_type": "markdown",
   "id": "669b6be8-083c-42f6-ae9d-bc0413d0a901",
   "metadata": {},
   "source": [
    "import numpy as np\n",
    "import matplotlib.pyplot as plt\n",
    "from sklearn.metrics import roc_curve, auc\n",
    "\n",
    "# Example data\n",
    "# True binary labels\n",
    "y_true = y\n",
    "\n",
    "# Predicted probabilities or scores for the positive class\n",
    "y_scores = probs\n",
    "\n",
    "# Calculate false positive rate (fpr), true positive rate (tpr), and thresholds\n",
    "fpr, tpr, thresholds = roc_curve(y_true, y_scores)\n",
    "\n",
    "# Calculate AUC\n",
    "roc_auc = auc(fpr, tpr)\n",
    "\n",
    "# Plot ROC curve\n",
    "plt.figure()\n",
    "plt.plot(fpr, tpr, color='darkorange', lw=2, label=f'ROC curve (AUC = {roc_auc:.2f})')\n",
    "plt.plot([0, 1], [0, 1], color='navy', lw=2, linestyle='--')  # Diagonal line\n",
    "plt.xlabel('False Positive Rate')\n",
    "plt.ylabel('True Positive Rate')\n",
    "plt.title('Receiver Operating Characteristic')\n",
    "plt.legend(loc='lower right')\n",
    "plt.grid(alpha=0.3)\n",
    "plt.show()\n"
   ]
  }
 ],
 "metadata": {
  "kernelspec": {
   "display_name": "recgensys-env",
   "language": "python",
   "name": "python3"
  },
  "language_info": {
   "codemirror_mode": {
    "name": "ipython",
    "version": 3
   },
   "file_extension": ".py",
   "mimetype": "text/x-python",
   "name": "python",
   "nbconvert_exporter": "python",
   "pygments_lexer": "ipython3",
   "version": "3.10.14"
  }
 },
 "nbformat": 4,
 "nbformat_minor": 5
}
