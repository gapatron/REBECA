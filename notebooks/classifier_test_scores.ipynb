{
 "cells": [
  {
   "cell_type": "code",
   "execution_count": 1,
   "metadata": {},
   "outputs": [],
   "source": [
    "%load_ext autoreload\n",
    "%autoreload 2\n",
    "\n",
    "import sys\n",
    "sys.path.append('../')"
   ]
  },
  {
   "cell_type": "code",
   "execution_count": 2,
   "metadata": {},
   "outputs": [
    {
     "name": "stderr",
     "output_type": "stream",
     "text": [
      "/home/gapatron/anaconda3/envs/rebeca-env/lib/python3.13/site-packages/tqdm/auto.py:21: TqdmWarning: IProgress not found. Please update jupyter and ipywidgets. See https://ipywidgets.readthedocs.io/en/stable/user_install.html\n",
      "  from .autonotebook import tqdm as notebook_tqdm\n"
     ]
    }
   ],
   "source": [
    "from irt import NCFModel, NCF\n",
    "import torch\n",
    "import os\n",
    "device ='cuda:0'\n",
    "train_data_path = \"../data/flickr/processed/train/\"\n",
    "test_data_path = \"../data/flickr/processed/test/\"\n",
    "irt_models_path = \"../data/flickr/evaluation/irt_models/\"\n",
    "ncf_model_path = \"../data/flickr/evaluation/classifier/\"\n",
    "ncf_model_file = \"ncf_usrthrs_0.pkl\""
   ]
  },
  {
   "cell_type": "code",
   "execution_count": 3,
   "metadata": {},
   "outputs": [],
   "source": [
    "ncf = NCF()\n",
    "ncf.load(f\"{ncf_model_path}/{ncf_model_file}\")"
   ]
  },
  {
   "cell_type": "code",
   "execution_count": null,
   "metadata": {},
   "outputs": [],
   "source": [
    "import pandas as pd\n",
    "import matplotlib.pyplot as plt\n"
   ]
  },
  {
   "cell_type": "code",
   "execution_count": 5,
   "metadata": {},
   "outputs": [],
   "source": [
    "data_test = pd.read_csv(test_data_path+\"test_usrthrs_0.csv\")\n",
    "E_test = torch.load(test_data_path+\"test_ie_usrthrs_0.pt\", weights_only=True)\n",
    "U_test = torch.tensor(data_test.worker_id)"
   ]
  },
  {
   "cell_type": "code",
   "execution_count": 7,
   "metadata": {},
   "outputs": [
    {
     "data": {
      "text/plain": [
       "{0: {'avg': 0.11823351681232452, 'std_error': 0.046966902911663055},\n",
       " 1: {'avg': 0.5654741525650024, 'std_error': 0.07884437590837479},\n",
       " 2: {'avg': 0.25403016805648804, 'std_error': 0.08045751601457596},\n",
       " 3: {'avg': 0.4500581622123718, 'std_error': 0.07812011241912842},\n",
       " 4: {'avg': 0.3693416118621826, 'std_error': 0.09959562867879868},\n",
       " 5: {'avg': 0.4001348614692688, 'std_error': 0.08583885431289673},\n",
       " 6: {'avg': 0.4553627371788025, 'std_error': 0.09848164021968842},\n",
       " 7: {'avg': 0.5372921824455261, 'std_error': 0.09185779839754105},\n",
       " 8: {'avg': 0.5027067065238953, 'std_error': 0.07565217465162277},\n",
       " 9: {'avg': 0.15658167004585266, 'std_error': 0.056236736476421356},\n",
       " 10: {'avg': 0.3388136923313141, 'std_error': 0.08999204635620117},\n",
       " 11: {'avg': 0.21562743186950684, 'std_error': 0.06562501937150955},\n",
       " 12: {'avg': 0.4572674632072449, 'std_error': 0.10745872557163239},\n",
       " 13: {'avg': 0.1430082768201828, 'std_error': 0.054391488432884216},\n",
       " 14: {'avg': 0.5140448808670044, 'std_error': 0.10309738665819168},\n",
       " 15: {'avg': 0.21047094464302063, 'std_error': 0.05807695537805557},\n",
       " 16: {'avg': 0.11229199171066284, 'std_error': 0.020522451028227806},\n",
       " 17: {'avg': 0.38680195808410645, 'std_error': 0.10339758545160294},\n",
       " 18: {'avg': 0.2536645531654358, 'std_error': 0.038526181131601334},\n",
       " 19: {'avg': 0.5087441802024841, 'std_error': 0.10405130684375763},\n",
       " 20: {'avg': 0.444579541683197, 'std_error': 0.051174379885196686},\n",
       " 21: {'avg': 0.13509276509284973, 'std_error': 0.04179244861006737},\n",
       " 22: {'avg': 0.20604315400123596, 'std_error': 0.048019543290138245},\n",
       " 23: {'avg': 0.2988561689853668, 'std_error': 0.08204391598701477},\n",
       " 24: {'avg': 0.522196888923645, 'std_error': 0.09518824517726898},\n",
       " 25: {'avg': 0.3186572194099426, 'std_error': 0.0733828991651535},\n",
       " 26: {'avg': 0.28376060724258423, 'std_error': 0.0731741413474083},\n",
       " 27: {'avg': 0.08969011902809143, 'std_error': 0.02118254080414772},\n",
       " 28: {'avg': 0.11342005431652069, 'std_error': 0.06462673842906952},\n",
       " 29: {'avg': 0.4940926134586334, 'std_error': 0.09532225877046585},\n",
       " 30: {'avg': 0.5440350770950317, 'std_error': 0.07914288341999054},\n",
       " 31: {'avg': 0.16707119345664978, 'std_error': 0.027875784784555435},\n",
       " 32: {'avg': 0.254703164100647, 'std_error': 0.08051664382219315},\n",
       " 33: {'avg': 0.5505816340446472, 'std_error': 0.11765298992395401},\n",
       " 34: {'avg': 0.3409363627433777, 'std_error': 0.10855433344841003},\n",
       " 35: {'avg': 0.1659698784351349, 'std_error': 0.07434286922216415},\n",
       " 36: {'avg': 0.10645081847906113, 'std_error': 0.03395763412117958},\n",
       " 37: {'avg': 0.27704423666000366, 'std_error': 0.11018965393304825},\n",
       " 38: {'avg': 0.3001561164855957, 'std_error': 0.09427531063556671},\n",
       " 39: {'avg': 0.4186476767063141, 'std_error': 0.08415353298187256},\n",
       " 40: {'avg': 0.09288883954286575, 'std_error': 0.023231489583849907},\n",
       " 41: {'avg': 0.42376071214675903, 'std_error': 0.06901702284812927},\n",
       " 42: {'avg': 0.11199579387903214, 'std_error': 0.023079419508576393},\n",
       " 43: {'avg': 0.31474727392196655, 'std_error': 0.08045690506696701},\n",
       " 44: {'avg': 0.16350200772285461, 'std_error': 0.05503513664007187},\n",
       " 45: {'avg': 0.24001333117485046, 'std_error': 0.07600893080234528},\n",
       " 46: {'avg': 0.37971609830856323, 'std_error': 0.0854233130812645},\n",
       " 47: {'avg': 0.152460515499115, 'std_error': 0.08386098593473434},\n",
       " 48: {'avg': 0.371314138174057, 'std_error': 0.09280721843242645},\n",
       " 49: {'avg': 0.30416953563690186, 'std_error': 0.07786864042282104},\n",
       " 50: {'avg': 0.14652174711227417, 'std_error': 0.054982151836156845},\n",
       " 51: {'avg': 0.4013565182685852, 'std_error': 0.08027807623147964},\n",
       " 52: {'avg': 0.218624547123909, 'std_error': 0.06297364085912704},\n",
       " 53: {'avg': 0.28449615836143494, 'std_error': 0.08341535180807114},\n",
       " 54: {'avg': 0.27743929624557495, 'std_error': 0.08720606565475464},\n",
       " 55: {'avg': 0.4226893484592438, 'std_error': 0.088721364736557},\n",
       " 56: {'avg': 0.2828691601753235, 'std_error': 0.07237211614847183},\n",
       " 57: {'avg': 0.2721717357635498, 'std_error': 0.09442225843667984},\n",
       " 58: {'avg': 0.24967443943023682, 'std_error': 0.07950945943593979},\n",
       " 59: {'avg': 0.44387030601501465, 'std_error': 0.11827510595321655},\n",
       " 60: {'avg': 0.41437840461730957, 'std_error': 0.10742485523223877},\n",
       " 61: {'avg': 0.2410382330417633, 'std_error': 0.08308473229408264},\n",
       " 62: {'avg': 0.2945024371147156, 'std_error': 0.06868907809257507},\n",
       " 63: {'avg': 0.5202207565307617, 'std_error': 0.08623527735471725},\n",
       " 64: {'avg': 0.3648037314414978, 'std_error': 0.08170264959335327},\n",
       " 65: {'avg': 0.3119429051876068, 'std_error': 0.0902491882443428},\n",
       " 66: {'avg': 0.11357651650905609, 'std_error': 0.026270247995853424},\n",
       " 67: {'avg': 0.3243493437767029, 'std_error': 0.09275811165571213},\n",
       " 68: {'avg': 0.2828858196735382, 'std_error': 0.09042154252529144},\n",
       " 69: {'avg': 0.4482239782810211, 'std_error': 0.10581054538488388},\n",
       " 70: {'avg': 0.24533125758171082, 'std_error': 0.08574843406677246},\n",
       " 71: {'avg': 0.198787659406662, 'std_error': 0.07536681741476059},\n",
       " 72: {'avg': 0.5919280648231506, 'std_error': 0.07907029241323471},\n",
       " 73: {'avg': 0.4340667128562927, 'std_error': 0.11383038014173508},\n",
       " 74: {'avg': 0.5198076963424683, 'std_error': 0.08356994390487671},\n",
       " 75: {'avg': 0.4182412624359131, 'std_error': 0.0810864120721817},\n",
       " 76: {'avg': 0.5085487365722656, 'std_error': 0.09217213094234467},\n",
       " 77: {'avg': 0.157327800989151, 'std_error': 0.053739141672849655},\n",
       " 78: {'avg': 0.40998131036758423, 'std_error': 0.11791585385799408},\n",
       " 79: {'avg': 0.6240590214729309, 'std_error': 0.10350370407104492},\n",
       " 80: {'avg': 0.24295613169670105, 'std_error': 0.07520700991153717},\n",
       " 81: {'avg': 0.6580491065979004, 'std_error': 0.05411412939429283},\n",
       " 82: {'avg': 0.2422100305557251, 'std_error': 0.08675859868526459},\n",
       " 83: {'avg': 0.413543701171875, 'std_error': 0.117814801633358},\n",
       " 84: {'avg': 0.5096099972724915, 'std_error': 0.10704357922077179},\n",
       " 85: {'avg': 0.3070300221443176, 'std_error': 0.07381559163331985},\n",
       " 86: {'avg': 0.48971977829933167, 'std_error': 0.09169773757457733},\n",
       " 87: {'avg': 0.6993247270584106, 'std_error': 0.06815875321626663},\n",
       " 88: {'avg': 0.5259691476821899, 'std_error': 0.09585028141736984},\n",
       " 89: {'avg': 0.4703221917152405, 'std_error': 0.11093826591968536},\n",
       " 90: {'avg': 0.7368193864822388, 'std_error': 0.07781021296977997},\n",
       " 91: {'avg': 0.4004550576210022, 'std_error': 0.09476249665021896},\n",
       " 92: {'avg': 0.27658918499946594, 'std_error': 0.10722481459379196},\n",
       " 93: {'avg': 0.18819214403629303, 'std_error': 0.07165534049272537},\n",
       " 94: {'avg': 0.5073329210281372, 'std_error': 0.08533471822738647},\n",
       " 95: {'avg': 0.32067495584487915, 'std_error': 0.10116958618164062},\n",
       " 96: {'avg': 0.3110724985599518, 'std_error': 0.10254764556884766},\n",
       " 97: {'avg': 0.45327267050743103, 'std_error': 0.08267605304718018},\n",
       " 98: {'avg': 0.21980449557304382, 'std_error': 0.06490931659936905},\n",
       " 99: {'avg': 0.33825111389160156, 'std_error': 0.09434851258993149},\n",
       " 100: {'avg': 0.31611940264701843, 'std_error': 0.10214149951934814},\n",
       " 101: {'avg': 0.30869147181510925, 'std_error': 0.08694499731063843},\n",
       " 102: {'avg': 0.08910910785198212, 'std_error': 0.03301825374364853},\n",
       " 103: {'avg': 0.2938031554222107, 'std_error': 0.07977182418107986},\n",
       " 104: {'avg': 0.3868096172809601, 'std_error': 0.08464684337377548},\n",
       " 105: {'avg': 0.6891704797744751, 'std_error': 0.06803390383720398},\n",
       " 106: {'avg': 0.4751884341239929, 'std_error': 0.08192962408065796},\n",
       " 107: {'avg': 0.31632763147354126, 'std_error': 0.06673447787761688},\n",
       " 108: {'avg': 0.09424261003732681, 'std_error': 0.020739054307341576},\n",
       " 109: {'avg': 0.6806769967079163, 'std_error': 0.08228128403425217},\n",
       " 110: {'avg': 0.09622672945261002, 'std_error': 0.06862477958202362},\n",
       " 111: {'avg': 0.25665295124053955, 'std_error': 0.08091700077056885},\n",
       " 112: {'avg': 0.292358934879303, 'std_error': 0.08682534098625183},\n",
       " 113: {'avg': 0.30079174041748047, 'std_error': 0.08237458765506744},\n",
       " 114: {'avg': 0.5162155032157898, 'std_error': 0.10022122412919998},\n",
       " 115: {'avg': 0.37060850858688354, 'std_error': 0.0679117739200592},\n",
       " 116: {'avg': 0.19732162356376648, 'std_error': 0.060587476938962936},\n",
       " 117: {'avg': 0.4128956198692322, 'std_error': 0.1303563117980957},\n",
       " 118: {'avg': 0.4790796637535095, 'std_error': 0.09400948137044907},\n",
       " 119: {'avg': 0.40886154770851135, 'std_error': 0.0742647796869278},\n",
       " 120: {'avg': 0.38095736503601074, 'std_error': 0.07787729054689407},\n",
       " 121: {'avg': 0.20949801802635193, 'std_error': 0.07830336689949036},\n",
       " 122: {'avg': 0.21422640979290009, 'std_error': 0.07759512215852737},\n",
       " 123: {'avg': 0.528399646282196, 'std_error': 0.06242945417761803},\n",
       " 124: {'avg': 0.5089566707611084, 'std_error': 0.10565711557865143},\n",
       " 125: {'avg': 0.47907066345214844, 'std_error': 0.08524122834205627},\n",
       " 126: {'avg': 0.16016462445259094, 'std_error': 0.03724761679768562},\n",
       " 127: {'avg': 0.33947402238845825, 'std_error': 0.08015331625938416},\n",
       " 128: {'avg': 0.48903965950012207, 'std_error': 0.0820639580488205},\n",
       " 129: {'avg': 0.5706499814987183, 'std_error': 0.1087595596909523},\n",
       " 130: {'avg': 0.8400529026985168, 'std_error': 0.0403071865439415},\n",
       " 131: {'avg': 0.29213300347328186, 'std_error': 0.06556841731071472},\n",
       " 132: {'avg': 0.5541728734970093, 'std_error': 0.10638821870088577},\n",
       " 133: {'avg': 0.10397080332040787, 'std_error': 0.01928848959505558},\n",
       " 134: {'avg': 0.24101634323596954, 'std_error': 0.07516108453273773},\n",
       " 135: {'avg': 0.5131862759590149, 'std_error': 0.09452562034130096},\n",
       " 136: {'avg': 0.2943052351474762, 'std_error': 0.07335112243890762},\n",
       " 137: {'avg': 0.3361620306968689, 'std_error': 0.08319532126188278},\n",
       " 138: {'avg': 0.29662129282951355, 'std_error': 0.08784809708595276},\n",
       " 139: {'avg': 0.42550715804100037, 'std_error': 0.11200137436389923},\n",
       " 140: {'avg': 0.37975525856018066, 'std_error': 0.08362197130918503},\n",
       " 141: {'avg': 0.49963274598121643, 'std_error': 0.05711052194237709},\n",
       " 142: {'avg': 0.34311550855636597, 'std_error': 0.09714678674936295},\n",
       " 143: {'avg': 0.4396335184574127, 'std_error': 0.08043114840984344},\n",
       " 144: {'avg': 0.5527228713035583, 'std_error': 0.11530772596597672},\n",
       " 145: {'avg': 0.38315513730049133, 'std_error': 0.11005856841802597},\n",
       " 146: {'avg': 0.40859705209732056, 'std_error': 0.06116848438978195},\n",
       " 147: {'avg': 0.5141621828079224, 'std_error': 0.08454321324825287},\n",
       " 148: {'avg': 0.24562570452690125, 'std_error': 0.04570963233709335},\n",
       " 149: {'avg': 0.5201913118362427, 'std_error': 0.10121668130159378},\n",
       " 150: {'avg': 0.3552672266960144, 'std_error': 0.10208249092102051},\n",
       " 151: {'avg': 0.26970410346984863, 'std_error': 0.07304219901561737},\n",
       " 152: {'avg': 0.503717839717865, 'std_error': 0.07700323313474655},\n",
       " 153: {'avg': 0.43223699927330017, 'std_error': 0.0893574133515358},\n",
       " 154: {'avg': 0.3010251224040985, 'std_error': 0.0821906104683876},\n",
       " 155: {'avg': 0.4733244478702545, 'std_error': 0.07798067480325699},\n",
       " 156: {'avg': 0.20391175150871277, 'std_error': 0.0746687799692154},\n",
       " 157: {'avg': 0.19745388627052307, 'std_error': 0.07067617774009705},\n",
       " 158: {'avg': 0.5931103825569153, 'std_error': 0.08173246681690216},\n",
       " 159: {'avg': 0.1980729103088379, 'std_error': 0.08764756470918655},\n",
       " 160: {'avg': 0.37146708369255066, 'std_error': 0.11497987061738968},\n",
       " 161: {'avg': 0.06409523636102676, 'std_error': 0.021548349410295486},\n",
       " 162: {'avg': 0.19006088376045227, 'std_error': 0.0965157076716423},\n",
       " 163: {'avg': 0.15387383103370667, 'std_error': 0.03352903947234154},\n",
       " 164: {'avg': 0.20429983735084534, 'std_error': 0.058023206889629364},\n",
       " 165: {'avg': 0.4226308763027191, 'std_error': 0.06888723373413086},\n",
       " 166: {'avg': 0.3809286057949066, 'std_error': 0.07642208784818649},\n",
       " 167: {'avg': 0.6851924657821655, 'std_error': 0.07458675652742386},\n",
       " 168: {'avg': 0.7329996824264526, 'std_error': 0.04207373037934303},\n",
       " 169: {'avg': 0.15021395683288574, 'std_error': 0.05613139644265175},\n",
       " 170: {'avg': 0.4712146818637848, 'std_error': 0.09289126843214035},\n",
       " 171: {'avg': 0.4785798490047455, 'std_error': 0.08845151960849762},\n",
       " 172: {'avg': 0.45539435744285583, 'std_error': 0.10566610842943192},\n",
       " 173: {'avg': 0.35195669531822205, 'std_error': 0.094012551009655},\n",
       " 174: {'avg': 0.2831624448299408, 'std_error': 0.07711952924728394},\n",
       " 175: {'avg': 0.4292786717414856, 'std_error': 0.08592621237039566},\n",
       " 176: {'avg': 0.5252999663352966, 'std_error': 0.09919038414955139},\n",
       " 177: {'avg': 0.3819858431816101, 'std_error': 0.088353730738163},\n",
       " 178: {'avg': 0.3686676025390625, 'std_error': 0.08186227083206177},\n",
       " 179: {'avg': 0.489410400390625, 'std_error': 0.08575404435396194},\n",
       " 180: {'avg': 0.32776790857315063, 'std_error': 0.10690684616565704},\n",
       " 181: {'avg': 0.608946681022644, 'std_error': 0.09523574262857437},\n",
       " 182: {'avg': 0.15172740817070007, 'std_error': 0.05452987179160118},\n",
       " 183: {'avg': 0.22056181728839874, 'std_error': 0.06778953224420547},\n",
       " 184: {'avg': 0.2053121030330658, 'std_error': 0.0656866580247879},\n",
       " 185: {'avg': 0.1435186266899109, 'std_error': 0.08062294125556946},\n",
       " 186: {'avg': 0.8304073214530945, 'std_error': 0.026335950940847397},\n",
       " 187: {'avg': 0.17637331783771515, 'std_error': 0.06644953787326813},\n",
       " 188: {'avg': 0.12580792605876923, 'std_error': 0.07870551943778992},\n",
       " 189: {'avg': 0.3480774462223053, 'std_error': 0.10976963490247726},\n",
       " 190: {'avg': 0.20744092762470245, 'std_error': 0.07059238106012344},\n",
       " 191: {'avg': 0.6356605291366577, 'std_error': 0.0953146293759346},\n",
       " 192: {'avg': 0.22634132206439972, 'std_error': 0.06524114310741425},\n",
       " 193: {'avg': 0.1828676462173462, 'std_error': 0.05437295883893967},\n",
       " 194: {'avg': 0.2793613076210022, 'std_error': 0.05936429649591446},\n",
       " 195: {'avg': 0.13864322006702423, 'std_error': 0.03755822032690048},\n",
       " 196: {'avg': 0.29920119047164917, 'std_error': 0.07535402476787567},\n",
       " 197: {'avg': 0.6703022122383118, 'std_error': 0.06949414312839508},\n",
       " 198: {'avg': 0.6115577220916748, 'std_error': 0.06548871099948883},\n",
       " 199: {'avg': 0.25274407863616943, 'std_error': 0.09044551849365234},\n",
       " 200: {'avg': 0.5789018869400024, 'std_error': 0.09821126610040665},\n",
       " 201: {'avg': 0.5773298144340515, 'std_error': 0.0787646621465683},\n",
       " 202: {'avg': 0.6033319234848022, 'std_error': 0.08669986575841904},\n",
       " 203: {'avg': 0.39250582456588745, 'std_error': 0.09677720814943314},\n",
       " 204: {'avg': 0.23323771357536316, 'std_error': 0.09584260731935501},\n",
       " 205: {'avg': 0.2788964807987213, 'std_error': 0.09712707251310349},\n",
       " 206: {'avg': 0.19193501770496368, 'std_error': 0.07480977475643158},\n",
       " 207: {'avg': 0.278034508228302, 'std_error': 0.08894113451242447},\n",
       " 208: {'avg': 0.3399069905281067, 'std_error': 0.0816718190908432},\n",
       " 209: {'avg': 0.2181740552186966, 'std_error': 0.08303951472043991}}"
      ]
     },
     "execution_count": 7,
     "metadata": {},
     "output_type": "execute_result"
    }
   ],
   "source": [
    "ncf.score(U_test, E_test.to(torch.float32))"
   ]
  },
  {
   "cell_type": "code",
   "execution_count": 8,
   "metadata": {},
   "outputs": [],
   "source": [
    "gen_data = torch.load(\"../data/flickr/evaluation/diffusion_priors/samples/front_cover/front_cover_samples_newzip.pt\", weights_only=False)"
   ]
  },
  {
   "cell_type": "code",
   "execution_count": 32,
   "metadata": {},
   "outputs": [
    {
     "data": {
      "text/plain": [
       "210"
      ]
     },
     "execution_count": 32,
     "metadata": {},
     "output_type": "execute_result"
    }
   ],
   "source": [
    "ncf.model.num_users"
   ]
  },
  {
   "cell_type": "code",
   "execution_count": 51,
   "metadata": {},
   "outputs": [],
   "source": [
    "prior_embeddings = torch.cat([gen_data[i][\"prior_embeddings\"] for i in range(len(gen_data))], dim=0)\n",
    "posterior_embeddings = torch.cat([gen_data[i][\"posterior_embeddings\"] for i in range(len(gen_data))], dim=0)"
   ]
  },
  {
   "cell_type": "code",
   "execution_count": 14,
   "metadata": {},
   "outputs": [],
   "source": [
    "# I am assuming each user has 10 embeddings, which they do for the front cover samples\n",
    "u_ids = torch.tensor([i//10 for i in range(prior_embeddings.shape[0])])"
   ]
  },
  {
   "cell_type": "code",
   "execution_count": null,
   "metadata": {},
   "outputs": [
    {
     "data": {
      "text/plain": [
       "torch.Size([2100])"
      ]
     },
     "execution_count": 28,
     "metadata": {},
     "output_type": "execute_result"
    }
   ],
   "source": [
    "u_ids.shape\n"
   ]
  },
  {
   "cell_type": "code",
   "execution_count": 57,
   "metadata": {},
   "outputs": [],
   "source": [
    "n_perms = 1000\n",
    "perm_prior_tensor = torch.zeros((n_perms, ncf.model.num_users))\n",
    "for i in range(n_perms):\n",
    "    u_perm = u_ids[torch.randperm(u_ids.shape[0])]\n",
    "    prior_scores = ncf.score(u_perm, prior_embeddings.to(torch.float32))\n",
    "    perm_avgs = torch.tensor([prior_scores[j][\"avg\"] for j in prior_scores.keys()])\n",
    "    perm_prior_tensor[i] = perm_avgs\n"
   ]
  },
  {
   "cell_type": "code",
   "execution_count": 58,
   "metadata": {},
   "outputs": [],
   "source": [
    "n_perms = 1000\n",
    "perm_posterior_tensor = torch.zeros((n_perms, ncf.model.num_users))\n",
    "for i in range(n_perms):\n",
    "    u_perm = u_ids[torch.randperm(u_ids.shape[0])]\n",
    "    posterior_scores = ncf.score(u_perm, posterior_embeddings.to(torch.float32))\n",
    "    perm_avgs = torch.tensor([posterior_scores[j][\"avg\"] for j in posterior_scores.keys()])\n",
    "    perm_posterior_tensor[i] = perm_avgs"
   ]
  },
  {
   "cell_type": "code",
   "execution_count": 52,
   "metadata": {},
   "outputs": [],
   "source": [
    "real_prior_scores = ncf.score(u_ids, prior_embeddings.to(torch.float32))\n",
    "real_prior_avgs = torch.tensor([real_prior_scores[i][\"avg\"] for i in real_prior_scores.keys()])\n",
    "real_posterior_scores = ncf.score(u_ids, posterior_embeddings.to(torch.float32))\n",
    "real_posterior_avgs = torch.tensor([real_posterior_scores[i][\"avg\"] for i in real_posterior_scores.keys()])"
   ]
  },
  {
   "cell_type": "code",
   "execution_count": 62,
   "metadata": {},
   "outputs": [],
   "source": [
    "perm_prior_means = perm_prior_tensor.mean(dim=1)\n",
    "perm_prior_medians = perm_prior_tensor.median(dim=1).values\n",
    "perm_posterior_means = perm_posterior_tensor.mean(dim=1)\n",
    "perm_posterior_medians = perm_posterior_tensor.median(dim=1).values"
   ]
  },
  {
   "cell_type": "code",
   "execution_count": 67,
   "metadata": {},
   "outputs": [
    {
     "data": {
      "image/png": "[encoded data removed]",
      "text/plain": [
       "<Figure size 640x480 with 1 Axes>"
      ]
     },
     "metadata": {},
     "output_type": "display_data"
    }
   ],
   "source": [
    "plt.hist(perm_prior_means)\n",
    "plt.axvline(real_prior_avgs.mean(), color='red')\n",
    "plt.title(\"Prior Means\")\n",
    "plt.show()"
   ]
  },
  {
   "cell_type": "code",
   "execution_count": 66,
   "metadata": {},
   "outputs": [
    {
     "data": {
      "image/png": "[encoded data removed]",
      "text/plain": [
       "<Figure size 640x480 with 1 Axes>"
      ]
     },
     "metadata": {},
     "output_type": "display_data"
    }
   ],
   "source": [
    "plt.hist(perm_posterior_means)\n",
    "plt.axvline(real_posterior_avgs.mean(), color='red')\n",
    "plt.title(\"Posterior Means\")\n",
    "plt.show()"
   ]
  },
  {
   "cell_type": "code",
   "execution_count": 68,
   "metadata": {},
   "outputs": [
    {
     "data": {
      "image/png": "[encoded data removed]",
      "text/plain": [
       "<Figure size 640x480 with 1 Axes>"
      ]
     },
     "metadata": {},
     "output_type": "display_data"
    }
   ],
   "source": [
    "plt.hist(perm_prior_medians)\n",
    "plt.axvline(real_prior_avgs.median(), color='red')\n",
    "plt.title(\"Prior Medians\")\n",
    "plt.show()"
   ]
  },
  {
   "cell_type": "code",
   "execution_count": 69,
   "metadata": {},
   "outputs": [
    {
     "data": {
      "image/png": "[encoded data removed]",
      "text/plain": [
       "<Figure size 640x480 with 1 Axes>"
      ]
     },
     "metadata": {},
     "output_type": "display_data"
    }
   ],
   "source": [
    "plt.hist(perm_posterior_medians)\n",
    "plt.axvline(real_posterior_avgs.median(), color='red')\n",
    "plt.title(\"Posterior Medians\")\n",
    "plt.show()"
   ]
  },
  {
   "cell_type": "code",
   "execution_count": 5,
   "metadata": {},
   "outputs": [
    {
     "name": "stdout",
     "output_type": "stream",
     "text": [
      "SPU_80_GS_10.0__NEG__usrthrs_100_exp2\n",
      "SPU_80_GS_12.0__NEG__usrthrs_100_exp2\n",
      "SPU_80_GS_14.0__NEG__usrthrs_100_exp2\n",
      "SPU_80_GS_16.0__NEG__usrthrs_100_exp2\n",
      "SPU_80_GS_18.0__NEG__usrthrs_100_exp2\n",
      "SPU_80_GS_20.0__NEG__usrthrs_100_exp2\n",
      "SPU_80_GS_8.0__NEG__usrthrs_100_exp2\n"
     ]
    }
   ],
   "source": [
    "PR_DIR = \"../data/flickr/evaluation/diffusion_priors/models/samples/test\"\n",
    "\n",
    "scores = dict.fromkeys(os.listdir(PR_DIR))\n",
    "\n",
    "for candidate in os.listdir(PR_DIR):\n",
    "    if \"exp2\" not in candidate:\n",
    "        continue\n",
    "    print(candidate)\n",
    "    candidate_dir = os.path.join(PR_DIR, candidate)\n",
    "    user_scores = dict.fromkeys(os.listdir(candidate_dir))\n",
    "    for user in os.listdir(candidate_dir):\n",
    "        \n",
    "        images_dir = os.path.join(candidate_dir, user, \"images\")\n",
    "        sdxl_ipadapter_embs = []\n",
    "        with torch.no_grad():\n",
    "            for path in os.listdir(images_dir):\n",
    "                #path = \"../data/raw/FLICKR-AES-001/40K/\" + unq_img_path\n",
    "                impath = os.path.join(images_dir, path)\n",
    "                pil_image = load_image(impath)\n",
    "                image_emb = pipe.encode_image(pil_image, device=\"cuda\", num_images_per_prompt=1)[0].squeeze()\n",
    "                sdxl_ipadapter_embs.append(image_emb.cpu())\n",
    "            sdxl_ipadapter_embs_tensor = torch.stack(sdxl_ipadapter_embs)\n",
    "            torch.save(sdxl_ipadapter_embs_tensor, f\"{images_dir}/../embeddings/sdxl_embeddings.pth\")"
   ]
  },
  {
   "cell_type": "code",
   "execution_count": 34,
   "metadata": {},
   "outputs": [
    {
     "ename": "RuntimeError",
     "evalue": "mat1 and mat2 shapes cannot be multiplied (16x1024 and 1280x80)",
     "output_type": "error",
     "traceback": [
      "\u001b[1;31m---------------------------------------------------------------------------\u001b[0m",
      "\u001b[1;31mRuntimeError\u001b[0m                              Traceback (most recent call last)",
      "Cell \u001b[1;32mIn[34], line 13\u001b[0m\n\u001b[0;32m     11\u001b[0m     embeddings \u001b[38;5;241m=\u001b[39m torch\u001b[38;5;241m.\u001b[39mload(embeddings_dir\u001b[38;5;241m+\u001b[39m\u001b[38;5;124m\"\u001b[39m\u001b[38;5;124m/embeddings.pth\u001b[39m\u001b[38;5;124m\"\u001b[39m, weights_only\u001b[38;5;241m=\u001b[39m\u001b[38;5;28;01mTrue\u001b[39;00m)\n\u001b[0;32m     12\u001b[0m     user_tensor \u001b[38;5;241m=\u001b[39m torch\u001b[38;5;241m.\u001b[39mfull((embeddings\u001b[38;5;241m.\u001b[39msize(\u001b[38;5;241m0\u001b[39m),), \u001b[38;5;241m4\u001b[39m)\n\u001b[1;32m---> 13\u001b[0m     user_scores[user] \u001b[38;5;241m=\u001b[39m \u001b[43mirt_model\u001b[49m\u001b[38;5;241;43m.\u001b[39;49m\u001b[43mscore\u001b[49m\u001b[43m(\u001b[49m\u001b[43muser_tensor\u001b[49m\u001b[43m,\u001b[49m\u001b[43m \u001b[49m\u001b[43membeddings\u001b[49m\u001b[38;5;241;43m.\u001b[39;49m\u001b[43mto\u001b[49m\u001b[43m(\u001b[49m\u001b[43mtorch\u001b[49m\u001b[38;5;241;43m.\u001b[39;49m\u001b[43mfloat32\u001b[49m\u001b[43m)\u001b[49m\u001b[43m)\u001b[49m\n\u001b[0;32m     14\u001b[0m     \u001b[38;5;28;01mbreak\u001b[39;00m\n\u001b[0;32m     15\u001b[0m \u001b[38;5;28;01mbreak\u001b[39;00m\n",
      "File \u001b[1;32mc:\\Users\\hohlx\\Desktop\\regenesys\\regenesys\\notebooks\\..\\irt.py:187\u001b[0m, in \u001b[0;36mIRT.score\u001b[1;34m(self, U_test, E_test)\u001b[0m\n\u001b[0;32m    186\u001b[0m \u001b[38;5;28;01mdef\u001b[39;00m \u001b[38;5;21mscore\u001b[39m(\u001b[38;5;28mself\u001b[39m, U_test, E_test):\n\u001b[1;32m--> 187\u001b[0m     scores \u001b[38;5;241m=\u001b[39m \u001b[38;5;28;43mself\u001b[39;49m\u001b[38;5;241;43m.\u001b[39;49m\u001b[43mpredict\u001b[49m\u001b[43m(\u001b[49m\u001b[43mU_test\u001b[49m\u001b[43m,\u001b[49m\u001b[43m \u001b[49m\u001b[43mE_test\u001b[49m\u001b[43m)\u001b[49m\n\u001b[0;32m    188\u001b[0m     U \u001b[38;5;241m=\u001b[39m torch\u001b[38;5;241m.\u001b[39mtensor([\u001b[38;5;28mint\u001b[39m(u) \u001b[38;5;28;01mfor\u001b[39;00m u \u001b[38;5;129;01min\u001b[39;00m U_test])\n\u001b[0;32m    189\u001b[0m     output \u001b[38;5;241m=\u001b[39m {}\n",
      "File \u001b[1;32mc:\\Users\\hohlx\\Desktop\\regenesys\\regenesys\\notebooks\\..\\irt.py:183\u001b[0m, in \u001b[0;36mIRT.predict\u001b[1;34m(self, U_test, E_test)\u001b[0m\n\u001b[0;32m    182\u001b[0m \u001b[38;5;28;01mdef\u001b[39;00m \u001b[38;5;21mpredict\u001b[39m(\u001b[38;5;28mself\u001b[39m, U_test, E_test):\n\u001b[1;32m--> 183\u001b[0m     scores \u001b[38;5;241m=\u001b[39m \u001b[43mforward\u001b[49m\u001b[43m(\u001b[49m\u001b[38;5;28;43mself\u001b[39;49m\u001b[38;5;241;43m.\u001b[39;49m\u001b[43mTheta1\u001b[49m\u001b[43m,\u001b[49m\u001b[43m \u001b[49m\u001b[38;5;28;43mself\u001b[39;49m\u001b[38;5;241;43m.\u001b[39;49m\u001b[43mTheta2\u001b[49m\u001b[43m,\u001b[49m\u001b[43m \u001b[49m\u001b[43mU_test\u001b[49m\u001b[43m,\u001b[49m\u001b[43m \u001b[49m\u001b[43mE_test\u001b[49m\u001b[43m,\u001b[49m\u001b[43m \u001b[49m\u001b[38;5;28;43mself\u001b[39;49m\u001b[38;5;241;43m.\u001b[39;49m\u001b[43mMa\u001b[49m\u001b[43m,\u001b[49m\u001b[43m \u001b[49m\u001b[38;5;28;43mself\u001b[39;49m\u001b[38;5;241;43m.\u001b[39;49m\u001b[43mMb\u001b[49m\u001b[43m)\u001b[49m\n\u001b[0;32m    184\u001b[0m     \u001b[38;5;28;01mreturn\u001b[39;00m scores\n",
      "File \u001b[1;32mc:\\Users\\hohlx\\Desktop\\regenesys\\regenesys\\notebooks\\..\\irt.py:13\u001b[0m, in \u001b[0;36mforward\u001b[1;34m(Theta1, Theta2, U, E, Ma, Mb, interaction)\u001b[0m\n\u001b[0;32m     11\u001b[0m \u001b[38;5;28;01mdef\u001b[39;00m \u001b[38;5;21mforward\u001b[39m(Theta1, Theta2, U, E, Ma, Mb, interaction\u001b[38;5;241m=\u001b[39m\u001b[38;5;28;01mTrue\u001b[39;00m):\n\u001b[0;32m     12\u001b[0m     \u001b[38;5;28;01mif\u001b[39;00m interaction:\n\u001b[1;32m---> 13\u001b[0m         \u001b[38;5;28;01mreturn\u001b[39;00m sigmoid((Theta1(U)\u001b[38;5;241m*\u001b[39m(\u001b[43mE\u001b[49m\u001b[38;5;129;43m@Ma\u001b[39;49m))\u001b[38;5;241m.\u001b[39msum(\u001b[38;5;241m1\u001b[39m)\u001b[38;5;241m+\u001b[39mTheta2(U)\u001b[38;5;241m.\u001b[39msqueeze()\u001b[38;5;241m+\u001b[39m(E\u001b[38;5;129m@Mb\u001b[39m))\n\u001b[0;32m     14\u001b[0m     \u001b[38;5;28;01melse\u001b[39;00m:\n\u001b[0;32m     15\u001b[0m         \u001b[38;5;28;01mreturn\u001b[39;00m sigmoid(Theta2(U)\u001b[38;5;241m.\u001b[39msqueeze()\u001b[38;5;241m+\u001b[39m(E\u001b[38;5;129m@Mb\u001b[39m))\n",
      "\u001b[1;31mRuntimeError\u001b[0m: mat1 and mat2 shapes cannot be multiplied (16x1024 and 1280x80)"
     ]
    }
   ],
   "source": [
    "from diffusion_adapters import StableDiffusionXLPipelineAdapterEmbeddings, StableDiffusionPipelineAdapterEmbeddings\n",
    "from diffusers.utils import load_image\n",
    "\n",
    "pipe = StableDiffusionXLPipelineAdapterEmbeddings.from_pretrained(\n",
    "    \"stabilityai/stable-diffusion-xl-base-1.0\", torch_dtype=torch.float16, variant=\"fp16\", use_safetensors=True\n",
    ").to(\"cuda\")\n",
    "pipe.load_ip_adapter(\"h94/IP-Adapter\", subfolder=\"sdxl_models\", weight_name=\"ip-adapter_sdxl.bin\")"
   ]
  }
 ],
 "metadata": {
  "kernelspec": {
   "display_name": "rebeca-env",
   "language": "python",
   "name": "python3"
  },
  "language_info": {
   "codemirror_mode": {
    "name": "ipython",
    "version": 3
   },
   "file_extension": ".py",
   "mimetype": "text/x-python",
   "name": "python",
   "nbconvert_exporter": "python",
   "pygments_lexer": "ipython3",
   "version": "3.13.2"
  }
 },
 "nbformat": 4,
 "nbformat_minor": 2
}
