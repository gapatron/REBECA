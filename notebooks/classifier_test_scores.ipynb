{
 "cells": [
  {
   "cell_type": "code",
   "execution_count": 2,
   "metadata": {},
   "outputs": [],
   "source": [
    "import pandas as pd\n",
    "import numpy as np\n",
    "import torch\n",
    "\n",
    "import sys\n",
    "sys.path.append('../')\n",
    "from irt import IRT\n",
    "import os\n",
    "device ='cuda:0'\n",
    "train_data_path = \"../data/flickr/processed/train/\"\n",
    "test_data_path = \"../data/flickr/processed/test/\"\n",
    "irt_models_path = \"../data/flickr/evaluation/irt_models/\""
   ]
  },
  {
   "cell_type": "code",
   "execution_count": 3,
   "metadata": {},
   "outputs": [],
   "source": [
    "irt_model = IRT(interaction=True)\n",
    "irt_model.load(irt_models_path+'irt_model_interaction_v2')"
   ]
  },
  {
   "cell_type": "code",
   "execution_count": 41,
   "metadata": {},
   "outputs": [
    {
     "data": {
      "text/plain": [
       "torch.Size([1280, 80])"
      ]
     },
     "execution_count": 41,
     "metadata": {},
     "output_type": "execute_result"
    }
   ],
   "source": [
    "irt_model.Ma.shape"
   ]
  },
  {
   "cell_type": "code",
   "execution_count": 4,
   "metadata": {},
   "outputs": [],
   "source": [
    "data_test = pd.read_csv(test_data_path+\"test.csv\")\n",
    "E_test = torch.load(test_data_path+\"test_ie.pth\", weights_only=True)\n",
    "U_test = torch.tensor(data_test.worker_id)"
   ]
  },
  {
   "cell_type": "code",
   "execution_count": 5,
   "metadata": {},
   "outputs": [
    {
     "data": {
      "text/plain": [
       "{0: {'avg': 0.1177634447813034, 'std_error': 0.03279915824532509},\n",
       " 1: {'avg': 0.5600583553314209, 'std_error': 0.07339368760585785},\n",
       " 2: {'avg': 0.3277135193347931, 'std_error': 0.10341393202543259},\n",
       " 3: {'avg': 0.4700864255428314, 'std_error': 0.0990249440073967},\n",
       " 4: {'avg': 0.34484416246414185, 'std_error': 0.10139508545398712},\n",
       " 5: {'avg': 0.4920850396156311, 'std_error': 0.09162384271621704},\n",
       " 6: {'avg': 0.4223087430000305, 'std_error': 0.08898787945508957},\n",
       " 7: {'avg': 0.5066087245941162, 'std_error': 0.08657854795455933},\n",
       " 8: {'avg': 0.19786781072616577, 'std_error': 0.09825316071510315},\n",
       " 9: {'avg': 0.3794806897640228, 'std_error': 0.11672765016555786},\n",
       " 10: {'avg': 0.33799731731414795, 'std_error': 0.11337112635374069},\n",
       " 11: {'avg': 0.6165096759796143, 'std_error': 0.14068792760372162},\n",
       " 12: {'avg': 0.07545991241931915, 'std_error': 0.03172377124428749},\n",
       " 13: {'avg': 0.5097498893737793, 'std_error': 0.10177282989025116},\n",
       " 14: {'avg': 0.3947809338569641, 'std_error': 0.12511974573135376},\n",
       " 15: {'avg': 0.2181350737810135, 'std_error': 0.08707824349403381},\n",
       " 16: {'avg': 0.3674115538597107, 'std_error': 0.09007702767848969},\n",
       " 17: {'avg': 0.3228599429130554, 'std_error': 0.09055256843566895},\n",
       " 18: {'avg': 0.30487728118896484, 'std_error': 0.1323813498020172},\n",
       " 19: {'avg': 0.4756465554237366, 'std_error': 0.11347212642431259},\n",
       " 20: {'avg': 0.05854787677526474, 'std_error': 0.020391127094626427},\n",
       " 21: {'avg': 0.20118454098701477, 'std_error': 0.06345615535974503},\n",
       " 22: {'avg': 0.5232278108596802, 'std_error': 0.11179590970277786},\n",
       " 23: {'avg': 0.43211713433265686, 'std_error': 0.07765962928533554},\n",
       " 24: {'avg': 0.2569436728954315, 'std_error': 0.07604263722896576},\n",
       " 25: {'avg': 0.38102227449417114, 'std_error': 0.09846729040145874},\n",
       " 26: {'avg': 0.08046786487102509, 'std_error': 0.02824002504348755},\n",
       " 27: {'avg': 0.4579293429851532, 'std_error': 0.10443791002035141},\n",
       " 28: {'avg': 0.3852466344833374, 'std_error': 0.08457764983177185},\n",
       " 29: {'avg': 0.326090544462204, 'std_error': 0.09013097733259201},\n",
       " 30: {'avg': 0.15424516797065735, 'std_error': 0.05620831251144409},\n",
       " 31: {'avg': 0.48472860455513, 'std_error': 0.11473406851291656},\n",
       " 32: {'avg': 0.4912049174308777, 'std_error': 0.12581391632556915},\n",
       " 33: {'avg': 0.20295318961143494, 'std_error': 0.06014173850417137},\n",
       " 34: {'avg': 0.20628909766674042, 'std_error': 0.09774687886238098},\n",
       " 35: {'avg': 0.42245444655418396, 'std_error': 0.08434612303972244},\n",
       " 36: {'avg': 0.35176852345466614, 'std_error': 0.07462234050035477},\n",
       " 37: {'avg': 0.3808651864528656, 'std_error': 0.08510773628950119},\n",
       " 38: {'avg': 0.29926663637161255, 'std_error': 0.08811938762664795},\n",
       " 39: {'avg': 0.4311522841453552, 'std_error': 0.11380460113286972},\n",
       " 40: {'avg': 0.24564802646636963, 'std_error': 0.08823265135288239},\n",
       " 41: {'avg': 0.45981520414352417, 'std_error': 0.07691746205091476},\n",
       " 42: {'avg': 0.5203048586845398, 'std_error': 0.10435174405574799},\n",
       " 43: {'avg': 0.25625309348106384, 'std_error': 0.0910274013876915},\n",
       " 44: {'avg': 0.28037717938423157, 'std_error': 0.11976225674152374},\n",
       " 45: {'avg': 0.35757195949554443, 'std_error': 0.09390483051538467},\n",
       " 46: {'avg': 0.27928656339645386, 'std_error': 0.09216223657131195},\n",
       " 47: {'avg': 0.21521827578544617, 'std_error': 0.05623076856136322},\n",
       " 48: {'avg': 0.4197307229042053, 'std_error': 0.11386988312005997},\n",
       " 49: {'avg': 0.5765133500099182, 'std_error': 0.10643314570188522},\n",
       " 50: {'avg': 0.34744566679000854, 'std_error': 0.10707282274961472},\n",
       " 51: {'avg': 0.26334765553474426, 'std_error': 0.10230036824941635},\n",
       " 52: {'avg': 0.14486628770828247, 'std_error': 0.06371837109327316},\n",
       " 53: {'avg': 0.26873618364334106, 'std_error': 0.08993132412433624},\n",
       " 54: {'avg': 0.3716503083705902, 'std_error': 0.08480636030435562},\n",
       " 55: {'avg': 0.21031279861927032, 'std_error': 0.09550291299819946},\n",
       " 56: {'avg': 0.378947913646698, 'std_error': 0.09900905191898346},\n",
       " 57: {'avg': 0.3017602562904358, 'std_error': 0.0530807301402092},\n",
       " 58: {'avg': 0.3664075434207916, 'std_error': 0.09423714876174927},\n",
       " 59: {'avg': 0.17223317921161652, 'std_error': 0.08530853688716888},\n",
       " 60: {'avg': 0.3370123505592346, 'std_error': 0.09734350442886353},\n",
       " 61: {'avg': 0.2647460997104645, 'std_error': 0.07830397039651871},\n",
       " 62: {'avg': 0.19913959503173828, 'std_error': 0.07049516588449478},\n",
       " 63: {'avg': 0.10807551443576813, 'std_error': 0.04525967687368393},\n",
       " 64: {'avg': 0.7297066450119019, 'std_error': 0.05593397095799446},\n",
       " 65: {'avg': 0.5844200253486633, 'std_error': 0.10920953005552292},\n",
       " 66: {'avg': 0.5455582141876221, 'std_error': 0.10171976685523987},\n",
       " 67: {'avg': 0.20508822798728943, 'std_error': 0.06035115569829941},\n",
       " 68: {'avg': 0.5060490965843201, 'std_error': 0.077726349234581},\n",
       " 69: {'avg': 0.5403753519058228, 'std_error': 0.12525403499603271},\n",
       " 70: {'avg': 0.5779379606246948, 'std_error': 0.07151322811841965},\n",
       " 71: {'avg': 0.27645009756088257, 'std_error': 0.07527580857276917},\n",
       " 72: {'avg': 0.7280451059341431, 'std_error': 0.09195992350578308},\n",
       " 73: {'avg': 0.3969798684120178, 'std_error': 0.10444366186857224},\n",
       " 74: {'avg': 0.3975454270839691, 'std_error': 0.10503890365362167},\n",
       " 75: {'avg': 0.6234326362609863, 'std_error': 0.10475515574216843},\n",
       " 76: {'avg': 0.4674195349216461, 'std_error': 0.1121261864900589},\n",
       " 77: {'avg': 0.3380390405654907, 'std_error': 0.07275791466236115},\n",
       " 78: {'avg': 0.3623361587524414, 'std_error': 0.07958253473043442},\n",
       " 79: {'avg': 0.34877341985702515, 'std_error': 0.0897187888622284},\n",
       " 80: {'avg': 0.2614009380340576, 'std_error': 0.09172426909208298},\n",
       " 81: {'avg': 0.8606024980545044, 'std_error': 0.05532458424568176},\n",
       " 82: {'avg': 0.4859563708305359, 'std_error': 0.11101185530424118},\n",
       " 83: {'avg': 0.31619107723236084, 'std_error': 0.11462855339050293},\n",
       " 84: {'avg': 0.41005823016166687, 'std_error': 0.10941334813833237},\n",
       " 85: {'avg': 0.25746190547943115, 'std_error': 0.08887667208909988},\n",
       " 86: {'avg': 0.3088647723197937, 'std_error': 0.09403003752231598},\n",
       " 87: {'avg': 0.48560795187950134, 'std_error': 0.08647093176841736},\n",
       " 88: {'avg': 0.3220871090888977, 'std_error': 0.11907743662595749},\n",
       " 89: {'avg': 0.579863429069519, 'std_error': 0.09587668627500534},\n",
       " 90: {'avg': 0.2337738573551178, 'std_error': 0.09513089805841446},\n",
       " 91: {'avg': 0.1122538223862648, 'std_error': 0.05995481088757515},\n",
       " 92: {'avg': 0.2697862386703491, 'std_error': 0.10336213558912277},\n",
       " 93: {'avg': 0.666936457157135, 'std_error': 0.08999215811491013},\n",
       " 94: {'avg': 0.7254031896591187, 'std_error': 0.08171126246452332},\n",
       " 95: {'avg': 0.5227797031402588, 'std_error': 0.09905534982681274},\n",
       " 96: {'avg': 0.3636881709098816, 'std_error': 0.09576301276683807},\n",
       " 97: {'avg': 0.5912615656852722, 'std_error': 0.07052560150623322},\n",
       " 98: {'avg': 0.11209072172641754, 'std_error': 0.08315198868513107},\n",
       " 99: {'avg': 0.41834062337875366, 'std_error': 0.10807038843631744},\n",
       " 100: {'avg': 0.3150153160095215, 'std_error': 0.06776624917984009},\n",
       " 101: {'avg': 0.1773017942905426, 'std_error': 0.07194722443819046},\n",
       " 102: {'avg': 0.6032277345657349, 'std_error': 0.0813538059592247},\n",
       " 103: {'avg': 0.4319472312927246, 'std_error': 0.0682855024933815},\n",
       " 104: {'avg': 0.41969743371009827, 'std_error': 0.11340056359767914},\n",
       " 105: {'avg': 0.6005964279174805, 'std_error': 0.08041001111268997},\n",
       " 106: {'avg': 0.3075965940952301, 'std_error': 0.05766969919204712},\n",
       " 107: {'avg': 0.48735490441322327, 'std_error': 0.10198858380317688},\n",
       " 108: {'avg': 0.13747817277908325, 'std_error': 0.0740952417254448},\n",
       " 109: {'avg': 0.2732387185096741, 'std_error': 0.053207240998744965},\n",
       " 110: {'avg': 0.5551102757453918, 'std_error': 0.11776404827833176},\n",
       " 111: {'avg': 0.15078134834766388, 'std_error': 0.09427883476018906},\n",
       " 112: {'avg': 0.564411997795105, 'std_error': 0.11298870295286179},\n",
       " 113: {'avg': 0.5039658546447754, 'std_error': 0.08667770028114319},\n",
       " 114: {'avg': 0.34058448672294617, 'std_error': 0.10557392984628677},\n",
       " 115: {'avg': 0.7915481328964233, 'std_error': 0.044998202472925186},\n",
       " 116: {'avg': 0.37862181663513184, 'std_error': 0.08815925568342209},\n",
       " 117: {'avg': 0.40626901388168335, 'std_error': 0.10342267900705338},\n",
       " 118: {'avg': 0.09761382639408112, 'std_error': 0.04361329227685928},\n",
       " 119: {'avg': 0.30148425698280334, 'std_error': 0.07976952195167542},\n",
       " 120: {'avg': 0.20802359282970428, 'std_error': 0.08407662063837051},\n",
       " 121: {'avg': 0.429483562707901, 'std_error': 0.10978996753692627},\n",
       " 122: {'avg': 0.33958229422569275, 'std_error': 0.0940038338303566},\n",
       " 123: {'avg': 0.6697818636894226, 'std_error': 0.09906017035245895},\n",
       " 124: {'avg': 0.633328914642334, 'std_error': 0.08258245140314102},\n",
       " 125: {'avg': 0.551710307598114, 'std_error': 0.08369369059801102},\n",
       " 126: {'avg': 0.496431827545166, 'std_error': 0.08986546099185944},\n",
       " 127: {'avg': 0.23850075900554657, 'std_error': 0.09015162289142609},\n",
       " 128: {'avg': 0.44205808639526367, 'std_error': 0.07041498273611069},\n",
       " 129: {'avg': 0.3307279646396637, 'std_error': 0.11321400851011276},\n",
       " 130: {'avg': 0.41366636753082275, 'std_error': 0.08865749090909958},\n",
       " 131: {'avg': 0.35167908668518066, 'std_error': 0.10129757970571518},\n",
       " 132: {'avg': 0.6467602252960205, 'std_error': 0.056390706449747086},\n",
       " 133: {'avg': 0.23381349444389343, 'std_error': 0.06609384715557098},\n",
       " 134: {'avg': 0.499021053314209, 'std_error': 0.10736678540706635},\n",
       " 135: {'avg': 0.2873087227344513, 'std_error': 0.10450565069913864},\n",
       " 136: {'avg': 0.8528878092765808, 'std_error': 0.030904239043593407},\n",
       " 137: {'avg': 0.386807918548584, 'std_error': 0.12217126786708832},\n",
       " 138: {'avg': 0.3757816553115845, 'std_error': 0.13449785113334656},\n",
       " 139: {'avg': 0.2559250593185425, 'std_error': 0.06364215165376663},\n",
       " 140: {'avg': 0.2546005845069885, 'std_error': 0.08980631083250046},\n",
       " 141: {'avg': 0.3025645613670349, 'std_error': 0.0989832654595375},\n",
       " 142: {'avg': 0.4606161117553711, 'std_error': 0.09697341173887253},\n",
       " 143: {'avg': 0.18919657170772552, 'std_error': 0.08034007996320724},\n",
       " 144: {'avg': 0.2506678104400635, 'std_error': 0.07414722442626953},\n",
       " 145: {'avg': 0.36838752031326294, 'std_error': 0.0954122543334961},\n",
       " 146: {'avg': 0.3405802845954895, 'std_error': 0.09122566878795624},\n",
       " 147: {'avg': 0.5725229382514954, 'std_error': 0.08101893216371536},\n",
       " 148: {'avg': 0.6936756372451782, 'std_error': 0.07774194329977036},\n",
       " 149: {'avg': 0.6715782284736633, 'std_error': 0.0932973325252533},\n",
       " 150: {'avg': 0.3312455713748932, 'std_error': 0.09024445712566376},\n",
       " 151: {'avg': 0.6124306321144104, 'std_error': 0.10499011725187302},\n",
       " 152: {'avg': 0.5325326919555664, 'std_error': 0.12349078059196472},\n",
       " 153: {'avg': 0.5834683179855347, 'std_error': 0.09057360142469406},\n",
       " 154: {'avg': 0.3911728858947754, 'std_error': 0.10343477874994278},\n",
       " 155: {'avg': 0.3210439383983612, 'std_error': 0.09357553720474243},\n",
       " 156: {'avg': 0.33355018496513367, 'std_error': 0.07700174301862717},\n",
       " 157: {'avg': 0.433453232049942, 'std_error': 0.09401363879442215},\n",
       " 158: {'avg': 0.6087807416915894, 'std_error': 0.09032958000898361},\n",
       " 159: {'avg': 0.2454422116279602, 'std_error': 0.08697322756052017},\n",
       " 160: {'avg': 0.49373680353164673, 'std_error': 0.09800161421298981},\n",
       " 161: {'avg': 0.5975310802459717, 'std_error': 0.08427345752716064},\n",
       " 162: {'avg': 0.20658919215202332, 'std_error': 0.08569987118244171},\n",
       " 163: {'avg': 0.23448403179645538, 'std_error': 0.08444700390100479},\n",
       " 164: {'avg': 0.4150214195251465, 'std_error': 0.12258204817771912},\n",
       " 165: {'avg': 0.8525370359420776, 'std_error': 0.04547625035047531},\n",
       " 166: {'avg': 0.1477832943201065, 'std_error': 0.05896283686161041},\n",
       " 167: {'avg': 0.15760913491249084, 'std_error': 0.042705338448286057},\n",
       " 168: {'avg': 0.3222114145755768, 'std_error': 0.07612914592027664},\n",
       " 169: {'avg': 0.2231428623199463, 'std_error': 0.059748005121946335},\n",
       " 170: {'avg': 0.6733558177947998, 'std_error': 0.10950206965208054},\n",
       " 171: {'avg': 0.25952762365341187, 'std_error': 0.06726591289043427},\n",
       " 172: {'avg': 0.0477595217525959, 'std_error': 0.02339101769030094},\n",
       " 173: {'avg': 0.33156371116638184, 'std_error': 0.08914408832788467},\n",
       " 174: {'avg': 0.16836538910865784, 'std_error': 0.0560218021273613},\n",
       " 175: {'avg': 0.3664396405220032, 'std_error': 0.10753126442432404},\n",
       " 176: {'avg': 0.7893919944763184, 'std_error': 0.050255343317985535},\n",
       " 177: {'avg': 0.6517844796180725, 'std_error': 0.09450136870145798},\n",
       " 178: {'avg': 0.2547059655189514, 'std_error': 0.10255797952413559},\n",
       " 179: {'avg': 0.4954596161842346, 'std_error': 0.12231487780809402},\n",
       " 180: {'avg': 0.17158210277557373, 'std_error': 0.0838528648018837},\n",
       " 181: {'avg': 0.6913168430328369, 'std_error': 0.09068583697080612},\n",
       " 182: {'avg': 0.4713548421859741, 'std_error': 0.13490530848503113},\n",
       " 183: {'avg': 0.16394440829753876, 'std_error': 0.0857955813407898},\n",
       " 184: {'avg': 0.2274925261735916, 'std_error': 0.09816016256809235},\n",
       " 185: {'avg': 0.20340558886528015, 'std_error': 0.08502934873104095},\n",
       " 186: {'avg': 0.280421644449234, 'std_error': 0.06693887710571289},\n",
       " 187: {'avg': 0.3535206913948059, 'std_error': 0.10547123849391937}}"
      ]
     },
     "execution_count": 5,
     "metadata": {},
     "output_type": "execute_result"
    }
   ],
   "source": [
    "irt_model.score(U_test, E_test.to(torch.float32))"
   ]
  },
  {
   "cell_type": "code",
   "execution_count": 3,
   "metadata": {},
   "outputs": [
    {
     "name": "stdout",
     "output_type": "stream",
     "text": [
      "C:\\Users\\Gabriel\\.cache\\huggingface\\hub\\models--stabilityai--stable-diffusion-xl-base-1.0\\snapshots\\462165984030d82259a11f4367a4eed129e94a7b\n"
     ]
    },
    {
     "data": {
      "application/vnd.jupyter.widget-view+json": {
       "model_id": "fae02742c61a49ebbf7de9dc6f851bb9",
       "version_major": 2,
       "version_minor": 0
      },
      "text/plain": [
       "Loading pipeline components...:   0%|          | 0/7 [00:00<?, ?it/s]"
      ]
     },
     "metadata": {},
     "output_type": "display_data"
    }
   ],
   "source": [
    "from diffusion_adapters import StableDiffusionXLPipelineAdapterEmbeddings\n",
    "from diffusers.utils import load_image\n",
    "\n",
    "pipe = StableDiffusionXLPipelineAdapterEmbeddings.from_pretrained(\n",
    "    \"stabilityai/stable-diffusion-xl-base-1.0\", torch_dtype=torch.float16, variant=\"fp16\", use_safetensors=True\n",
    ").to(\"cuda\")\n",
    "pipe.load_ip_adapter(\"h94/IP-Adapter\", subfolder=\"sdxl_models\", weight_name=\"ip-adapter_sdxl.bin\")"
   ]
  },
  {
   "cell_type": "code",
   "execution_count": 5,
   "metadata": {},
   "outputs": [
    {
     "name": "stdout",
     "output_type": "stream",
     "text": [
      "SPU_80_GS_10.0__NEG__usrthrs_100_exp2\n",
      "SPU_80_GS_12.0__NEG__usrthrs_100_exp2\n",
      "SPU_80_GS_14.0__NEG__usrthrs_100_exp2\n",
      "SPU_80_GS_16.0__NEG__usrthrs_100_exp2\n",
      "SPU_80_GS_18.0__NEG__usrthrs_100_exp2\n",
      "SPU_80_GS_20.0__NEG__usrthrs_100_exp2\n",
      "SPU_80_GS_8.0__NEG__usrthrs_100_exp2\n"
     ]
    }
   ],
   "source": [
    "PR_DIR = \"../data/flickr/evaluation/diffusion_priors/models/samples/test\"\n",
    "\n",
    "scores = dict.fromkeys(os.listdir(PR_DIR))\n",
    "\n",
    "for candidate in os.listdir(PR_DIR):\n",
    "    if \"exp2\" not in candidate:\n",
    "        continue\n",
    "    print(candidate)\n",
    "    candidate_dir = os.path.join(PR_DIR, candidate)\n",
    "    user_scores = dict.fromkeys(os.listdir(candidate_dir))\n",
    "    for user in os.listdir(candidate_dir):\n",
    "        \n",
    "        images_dir = os.path.join(candidate_dir, user, \"images\")\n",
    "        sdxl_ipadapter_embs = []\n",
    "        with torch.no_grad():\n",
    "            for path in os.listdir(images_dir):\n",
    "                #path = \"../data/raw/FLICKR-AES-001/40K/\" + unq_img_path\n",
    "                impath = os.path.join(images_dir, path)\n",
    "                pil_image = load_image(impath)\n",
    "                image_emb = pipe.encode_image(pil_image, device=\"cuda\", num_images_per_prompt=1)[0].squeeze()\n",
    "                sdxl_ipadapter_embs.append(image_emb.cpu())\n",
    "            sdxl_ipadapter_embs_tensor = torch.stack(sdxl_ipadapter_embs)\n",
    "            torch.save(sdxl_ipadapter_embs_tensor, f\"{images_dir}/../embeddings/sdxl_embeddings.pth\")"
   ]
  },
  {
   "cell_type": "code",
   "execution_count": 34,
   "metadata": {},
   "outputs": [
    {
     "ename": "RuntimeError",
     "evalue": "mat1 and mat2 shapes cannot be multiplied (16x1024 and 1280x80)",
     "output_type": "error",
     "traceback": [
      "\u001b[1;31m---------------------------------------------------------------------------\u001b[0m",
      "\u001b[1;31mRuntimeError\u001b[0m                              Traceback (most recent call last)",
      "Cell \u001b[1;32mIn[34], line 13\u001b[0m\n\u001b[0;32m     11\u001b[0m     embeddings \u001b[38;5;241m=\u001b[39m torch\u001b[38;5;241m.\u001b[39mload(embeddings_dir\u001b[38;5;241m+\u001b[39m\u001b[38;5;124m\"\u001b[39m\u001b[38;5;124m/embeddings.pth\u001b[39m\u001b[38;5;124m\"\u001b[39m, weights_only\u001b[38;5;241m=\u001b[39m\u001b[38;5;28;01mTrue\u001b[39;00m)\n\u001b[0;32m     12\u001b[0m     user_tensor \u001b[38;5;241m=\u001b[39m torch\u001b[38;5;241m.\u001b[39mfull((embeddings\u001b[38;5;241m.\u001b[39msize(\u001b[38;5;241m0\u001b[39m),), \u001b[38;5;241m4\u001b[39m)\n\u001b[1;32m---> 13\u001b[0m     user_scores[user] \u001b[38;5;241m=\u001b[39m \u001b[43mirt_model\u001b[49m\u001b[38;5;241;43m.\u001b[39;49m\u001b[43mscore\u001b[49m\u001b[43m(\u001b[49m\u001b[43muser_tensor\u001b[49m\u001b[43m,\u001b[49m\u001b[43m \u001b[49m\u001b[43membeddings\u001b[49m\u001b[38;5;241;43m.\u001b[39;49m\u001b[43mto\u001b[49m\u001b[43m(\u001b[49m\u001b[43mtorch\u001b[49m\u001b[38;5;241;43m.\u001b[39;49m\u001b[43mfloat32\u001b[49m\u001b[43m)\u001b[49m\u001b[43m)\u001b[49m\n\u001b[0;32m     14\u001b[0m     \u001b[38;5;28;01mbreak\u001b[39;00m\n\u001b[0;32m     15\u001b[0m \u001b[38;5;28;01mbreak\u001b[39;00m\n",
      "File \u001b[1;32mc:\\Users\\hohlx\\Desktop\\regenesys\\regenesys\\notebooks\\..\\irt.py:187\u001b[0m, in \u001b[0;36mIRT.score\u001b[1;34m(self, U_test, E_test)\u001b[0m\n\u001b[0;32m    186\u001b[0m \u001b[38;5;28;01mdef\u001b[39;00m \u001b[38;5;21mscore\u001b[39m(\u001b[38;5;28mself\u001b[39m, U_test, E_test):\n\u001b[1;32m--> 187\u001b[0m     scores \u001b[38;5;241m=\u001b[39m \u001b[38;5;28;43mself\u001b[39;49m\u001b[38;5;241;43m.\u001b[39;49m\u001b[43mpredict\u001b[49m\u001b[43m(\u001b[49m\u001b[43mU_test\u001b[49m\u001b[43m,\u001b[49m\u001b[43m \u001b[49m\u001b[43mE_test\u001b[49m\u001b[43m)\u001b[49m\n\u001b[0;32m    188\u001b[0m     U \u001b[38;5;241m=\u001b[39m torch\u001b[38;5;241m.\u001b[39mtensor([\u001b[38;5;28mint\u001b[39m(u) \u001b[38;5;28;01mfor\u001b[39;00m u \u001b[38;5;129;01min\u001b[39;00m U_test])\n\u001b[0;32m    189\u001b[0m     output \u001b[38;5;241m=\u001b[39m {}\n",
      "File \u001b[1;32mc:\\Users\\hohlx\\Desktop\\regenesys\\regenesys\\notebooks\\..\\irt.py:183\u001b[0m, in \u001b[0;36mIRT.predict\u001b[1;34m(self, U_test, E_test)\u001b[0m\n\u001b[0;32m    182\u001b[0m \u001b[38;5;28;01mdef\u001b[39;00m \u001b[38;5;21mpredict\u001b[39m(\u001b[38;5;28mself\u001b[39m, U_test, E_test):\n\u001b[1;32m--> 183\u001b[0m     scores \u001b[38;5;241m=\u001b[39m \u001b[43mforward\u001b[49m\u001b[43m(\u001b[49m\u001b[38;5;28;43mself\u001b[39;49m\u001b[38;5;241;43m.\u001b[39;49m\u001b[43mTheta1\u001b[49m\u001b[43m,\u001b[49m\u001b[43m \u001b[49m\u001b[38;5;28;43mself\u001b[39;49m\u001b[38;5;241;43m.\u001b[39;49m\u001b[43mTheta2\u001b[49m\u001b[43m,\u001b[49m\u001b[43m \u001b[49m\u001b[43mU_test\u001b[49m\u001b[43m,\u001b[49m\u001b[43m \u001b[49m\u001b[43mE_test\u001b[49m\u001b[43m,\u001b[49m\u001b[43m \u001b[49m\u001b[38;5;28;43mself\u001b[39;49m\u001b[38;5;241;43m.\u001b[39;49m\u001b[43mMa\u001b[49m\u001b[43m,\u001b[49m\u001b[43m \u001b[49m\u001b[38;5;28;43mself\u001b[39;49m\u001b[38;5;241;43m.\u001b[39;49m\u001b[43mMb\u001b[49m\u001b[43m)\u001b[49m\n\u001b[0;32m    184\u001b[0m     \u001b[38;5;28;01mreturn\u001b[39;00m scores\n",
      "File \u001b[1;32mc:\\Users\\hohlx\\Desktop\\regenesys\\regenesys\\notebooks\\..\\irt.py:13\u001b[0m, in \u001b[0;36mforward\u001b[1;34m(Theta1, Theta2, U, E, Ma, Mb, interaction)\u001b[0m\n\u001b[0;32m     11\u001b[0m \u001b[38;5;28;01mdef\u001b[39;00m \u001b[38;5;21mforward\u001b[39m(Theta1, Theta2, U, E, Ma, Mb, interaction\u001b[38;5;241m=\u001b[39m\u001b[38;5;28;01mTrue\u001b[39;00m):\n\u001b[0;32m     12\u001b[0m     \u001b[38;5;28;01mif\u001b[39;00m interaction:\n\u001b[1;32m---> 13\u001b[0m         \u001b[38;5;28;01mreturn\u001b[39;00m sigmoid((Theta1(U)\u001b[38;5;241m*\u001b[39m(\u001b[43mE\u001b[49m\u001b[38;5;129;43m@Ma\u001b[39;49m))\u001b[38;5;241m.\u001b[39msum(\u001b[38;5;241m1\u001b[39m)\u001b[38;5;241m+\u001b[39mTheta2(U)\u001b[38;5;241m.\u001b[39msqueeze()\u001b[38;5;241m+\u001b[39m(E\u001b[38;5;129m@Mb\u001b[39m))\n\u001b[0;32m     14\u001b[0m     \u001b[38;5;28;01melse\u001b[39;00m:\n\u001b[0;32m     15\u001b[0m         \u001b[38;5;28;01mreturn\u001b[39;00m sigmoid(Theta2(U)\u001b[38;5;241m.\u001b[39msqueeze()\u001b[38;5;241m+\u001b[39m(E\u001b[38;5;129m@Mb\u001b[39m))\n",
      "\u001b[1;31mRuntimeError\u001b[0m: mat1 and mat2 shapes cannot be multiplied (16x1024 and 1280x80)"
     ]
    }
   ],
   "source": [
    "from diffusion_adapters import StableDiffusionXLPipelineAdapterEmbeddings, StableDiffusionPipelineAdapterEmbeddings\n",
    "from diffusers.utils import load_image\n",
    "\n",
    "pipe = StableDiffusionXLPipelineAdapterEmbeddings.from_pretrained(\n",
    "    \"stabilityai/stable-diffusion-xl-base-1.0\", torch_dtype=torch.float16, variant=\"fp16\", use_safetensors=True\n",
    ").to(\"cuda\")\n",
    "pipe.load_ip_adapter(\"h94/IP-Adapter\", subfolder=\"sdxl_models\", weight_name=\"ip-adapter_sdxl.bin\")"
   ]
  }
 ],
 "metadata": {
  "kernelspec": {
   "display_name": "recgensys-env",
   "language": "python",
   "name": "python3"
  },
  "language_info": {
   "codemirror_mode": {
    "name": "ipython",
    "version": 3
   },
   "file_extension": ".py",
   "mimetype": "text/x-python",
   "name": "python",
   "nbconvert_exporter": "python",
   "pygments_lexer": "ipython3",
   "version": "3.10.14"
  }
 },
 "nbformat": 4,
 "nbformat_minor": 2
}
